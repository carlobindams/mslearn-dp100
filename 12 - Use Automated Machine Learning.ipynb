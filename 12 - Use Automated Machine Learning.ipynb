{
  "cells": [
    {
      "cell_type": "markdown",
      "metadata": {},
      "source": [
        "# Use Automated Machine Learning\n",
        "\n",
        "There are many kinds of machine learning algorithm that you can use to train a model, and sometimes it's not easy to determine the most effective algorithm for your particular data and prediction requirements. Additionally, you can significantly affect the predictive performance of a model by preprocessing the training data, using techniques such as normalization, missing feature imputation, and others. In your quest to find the *best* model for your requirements, you may need to try many combinations of algorithms and preprocessing transformations; which takes a lot of time and compute resources.\n",
        "\n",
        "Azure Machine Learning enables you to automate the comparison of models trained using different algorithms and preprocessing options. You can use the visual interface in [Azure Machine Learning studio](https://ml/azure.com) or the SDK to leverage this capability. The SDK gives you greater control over the settings for the automated machine learning experiment, but the visual interface is easier to use.\n",
        "\n",
        "## Before you start\n",
        "\n",
        "In addition to the latest version of the **azureml-sdk** and **azureml-widgets** packages, you'll need the **azureml-train-automl** package to run the code in this notebook. Run the cell below to verify that it is installed."
      ]
    },
    {
      "cell_type": "code",
      "execution_count": 1,
      "metadata": {
        "gather": {
          "logged": 1649367946616
        }
      },
      "outputs": [
        {
          "name": "stdout",
          "output_type": "stream",
          "text": [
            "Name: azureml-train-automl\n",
            "Version: 1.44.0\n",
            "Summary: Used for automatically finding the best machine learning model and its parameters.\n",
            "Home-page: https://docs.microsoft.com/python/api/overview/azure/ml/?view=azure-ml-py\n",
            "Author: Microsoft Corp\n",
            "Author-email: None\n",
            "License: https://aka.ms/azureml-sdk-license\n",
            "Location: /anaconda/envs/azureml_py38/lib/python3.8/site-packages\n",
            "Requires: azureml-dataset-runtime, azureml-train-automl-runtime, azureml-automl-core, azureml-automl-runtime, azureml-train-automl-client\n",
            "Required-by: azureml-automl-dnn-nlp\n",
            "Note: you may need to restart the kernel to use updated packages.\n"
          ]
        }
      ],
      "source": [
        "pip show azureml-train-automl"
      ]
    },
    {
      "cell_type": "markdown",
      "metadata": {},
      "source": [
        "## Connect to your workspace\n",
        "\n",
        "With the required SDK packages installed, now you're ready to connect to your workspace.\n",
        "\n",
        "> **Note**: If you haven't already established an authenticated session with your Azure subscription, you'll be prompted to authenticate by clicking a link, entering an authentication code, and signing into Azure."
      ]
    },
    {
      "cell_type": "code",
      "execution_count": 2,
      "metadata": {
        "gather": {
          "logged": 1649368014007
        }
      },
      "outputs": [
        {
          "name": "stdout",
          "output_type": "stream",
          "text": [
            "Ready to use Azure ML 1.44.0 to work with mllearningworkspace\n"
          ]
        }
      ],
      "source": [
        "import azureml.core\n",
        "from azureml.core import Workspace\n",
        "\n",
        "# Load the workspace from the saved config file\n",
        "ws = Workspace.from_config()\n",
        "print('Ready to use Azure ML {} to work with {}'.format(azureml.core.VERSION, ws.name))"
      ]
    },
    {
      "cell_type": "markdown",
      "metadata": {},
      "source": [
        "## Prepare data\n",
        "\n",
        "You don't need to create a training script for automated machine learning, but you do need to load the training data. In this case, you'll use a dataset containing details of diabetes patients, and then split this into two datasets: one for training, and another for model validation."
      ]
    },
    {
      "cell_type": "code",
      "execution_count": 3,
      "metadata": {},
      "outputs": [
        {
          "name": "stdout",
          "output_type": "stream",
          "text": [
            "Dataset already registered.\n",
            "Data ready!\n"
          ]
        }
      ],
      "source": [
        "from azureml.core import Dataset\n",
        "\n",
        "default_ds = ws.get_default_datastore()\n",
        "\n",
        "if 'diabetes dataset' not in ws.datasets:\n",
        "    default_ds.upload_files(files=['./data/diabetes.csv', './data/diabetes2.csv'], # Upload the diabetes csv files in /data\n",
        "                        target_path='diabetes-data/', # Put it in a folder path in the datastore\n",
        "                        overwrite=True, # Replace existing files of the same name\n",
        "                        show_progress=True)\n",
        "\n",
        "    #Create a tabular dataset from the path on the datastore (this may take a short while)\n",
        "    tab_data_set = Dataset.Tabular.from_delimited_files(path=(default_ds, 'diabetes-data/*.csv'))\n",
        "\n",
        "    # Register the tabular dataset\n",
        "    try:\n",
        "        tab_data_set = tab_data_set.register(workspace=ws, \n",
        "                                name='diabetes dataset',\n",
        "                                description='diabetes data',\n",
        "                                tags = {'format':'CSV'},\n",
        "                                create_new_version=True)\n",
        "        print('Dataset registered.')\n",
        "    except Exception as ex:\n",
        "        print(ex)\n",
        "else:\n",
        "    print('Dataset already registered.')\n",
        "\n",
        "\n",
        "# Split the dataset into training and validation subsets\n",
        "diabetes_ds = ws.datasets.get(\"diabetes dataset\")\n",
        "train_ds, test_ds = diabetes_ds.random_split(percentage=0.7, seed=123)\n",
        "print(\"Data ready!\")"
      ]
    },
    {
      "cell_type": "markdown",
      "metadata": {},
      "source": [
        "## Prepare compute\n",
        "\n",
        "One of the benefits of cloud compute is that it scales on-demand, enabling you to provision enough compute resources to process multiple child-runs of an automated machine learning experiment in parallel.\n",
        "\n",
        "Use the following code to specify an Azure Machine Learning compute cluster (it will be created if it doesn't already exist)..\n",
        "\n",
        "> **Important**: Change *your-compute-cluster* to the name of your compute cluster in the code below before running it! Cluster names must be globally unique names between 2 to 16 characters in length. Valid characters are letters, digits, and the - character."
      ]
    },
    {
      "cell_type": "code",
      "execution_count": 4,
      "metadata": {},
      "outputs": [
        {
          "name": "stdout",
          "output_type": "stream",
          "text": [
            "Found existing cluster, use it.\n"
          ]
        }
      ],
      "source": [
        "from azureml.core.compute import ComputeTarget, AmlCompute\n",
        "from azureml.core.compute_target import ComputeTargetException\n",
        "\n",
        "cluster_name = \"my-compute-cluster\"\n",
        "\n",
        "try:\n",
        "    # Check for existing compute target\n",
        "    training_cluster = ComputeTarget(workspace=ws, name=cluster_name)\n",
        "    print('Found existing cluster, use it.')\n",
        "except ComputeTargetException:\n",
        "    # If it doesn't already exist, create it\n",
        "    try:\n",
        "        compute_config = AmlCompute.provisioning_configuration(vm_size='STANDARD_DS11_V2', max_nodes=2)\n",
        "        training_cluster = ComputeTarget.create(ws, cluster_name, compute_config)\n",
        "        training_cluster.wait_for_completion(show_output=True)\n",
        "    except Exception as ex:\n",
        "        print(ex)\n",
        "    "
      ]
    },
    {
      "cell_type": "markdown",
      "metadata": {},
      "source": [
        "> **Note**: Compute instances and clusters are based on standard Azure virtual machine images. For this exercise, the *Standard_DS11_v2* image is recommended to achieve the optimal balance of cost and performance. If your subscription has a quota that does not include this image, choose an alternative image; but bear in mind that a larger image may incur higher cost and a smaller image may not be sufficient to complete the tasks. Alternatively, ask your Azure administrator to extend your quota.\n",
        "\n",
        "## Configure automated machine learning\n",
        "\n",
        "Now you're ready to configure the automated machine learning experiment.\n",
        "\n",
        "One of the most important configuration settings is the metric by which model performance should be evaluated. You can retrieve a list of the metrics that are calculated by automated machine learning for a particular type of model task (classification or regression) like this:"
      ]
    },
    {
      "cell_type": "code",
      "execution_count": 5,
      "metadata": {},
      "outputs": [
        {
          "name": "stdout",
          "output_type": "stream",
          "text": [
            "average_precision_score_weighted\n",
            "norm_macro_recall\n",
            "accuracy\n",
            "AUC_weighted\n",
            "precision_score_weighted\n"
          ]
        }
      ],
      "source": [
        "import azureml.train.automl.utilities as automl_utils\n",
        "\n",
        "for metric in automl_utils.get_primary_metrics('classification'):\n",
        "    print(metric)"
      ]
    },
    {
      "cell_type": "markdown",
      "metadata": {},
      "source": [
        "Having decided the metric you want to optimize (in this example, *AUC_weighted*), you can configure the automated machine learning run. To do this, you'll need an AutoML configuration that specifies the target metric as well as options like the data to use, how many combinations to try, and so on.\n",
        "\n",
        "> **Note**: In this example, you'll restrict the experiment to 4 iterations to reduce the amount of time taken. In reality, you'd likely try many more iterations."
      ]
    },
    {
      "cell_type": "code",
      "execution_count": 7,
      "metadata": {},
      "outputs": [
        {
          "name": "stdout",
          "output_type": "stream",
          "text": [
            "Ready for Auto ML run.\n"
          ]
        }
      ],
      "source": [
        "from azureml.train.automl import AutoMLConfig\n",
        "\n",
        "automl_config = AutoMLConfig(name='Automated ML Experiment',\n",
        "                             task='classification',\n",
        "                             compute_target=training_cluster,\n",
        "                             training_data = train_ds,\n",
        "                             validation_data = test_ds,\n",
        "                             label_column_name='Diabetic',\n",
        "                             iterations=4,\n",
        "                             primary_metric = 'AUC_weighted',\n",
        "                             max_concurrent_iterations=2,\n",
        "                             featurization='auto'\n",
        "                             )\n",
        "\n",
        "print(\"Ready for Auto ML run.\")"
      ]
    },
    {
      "cell_type": "markdown",
      "metadata": {},
      "source": [
        "## Run an automated machine learning experiment\n",
        "\n",
        "OK, you're ready to go. Let's run the automated machine learning experiment.\n",
        "\n",
        "> **Note**: This may take some time!"
      ]
    },
    {
      "cell_type": "code",
      "execution_count": 8,
      "metadata": {
        "scrolled": true
      },
      "outputs": [
        {
          "name": "stdout",
          "output_type": "stream",
          "text": [
            "Submitting Auto ML experiment...\n",
            "Submitting remote run.\n"
          ]
        },
        {
          "data": {
            "text/html": [
              "<table style=\"width:100%\"><tr><th>Experiment</th><th>Id</th><th>Type</th><th>Status</th><th>Details Page</th><th>Docs Page</th></tr><tr><td>mslearn-diabetes-automl-sdk</td><td>AutoML_4917704f-460b-4fba-85a9-34ef682367f4</td><td>automl</td><td>NotStarted</td><td><a href=\"https://ml.azure.com/runs/AutoML_4917704f-460b-4fba-85a9-34ef682367f4?wsid=/subscriptions/376621af-6a06-4df6-b902-d25c6239f015/resourcegroups/learning/workspaces/mllearningworkspace&amp;tid=16b3c013-d300-468d-ac64-7eda0820b6d3\" target=\"_blank\" rel=\"noopener\">Link to Azure Machine Learning studio</a></td><td><a href=\"https://docs.microsoft.com/en-us/python/api/overview/azure/ml/intro?view=azure-ml-py\" target=\"_blank\" rel=\"noopener\">Link to Documentation</a></td></tr></table>"
            ],
            "text/plain": [
              "<IPython.core.display.HTML object>"
            ]
          },
          "metadata": {},
          "output_type": "display_data"
        },
        {
          "data": {
            "application/vnd.jupyter.widget-view+json": {
              "model_id": "4b3d4f51265f44c0996dddc3b6bf5599",
              "version_major": 2,
              "version_minor": 0
            },
            "text/plain": [
              "_AutoMLWidget(widget_settings={'childWidgetDisplay': 'popup', 'send_telemetry': False, 'log_level': 'INFO', 's…"
            ]
          },
          "metadata": {},
          "output_type": "display_data"
        },
        {
          "data": {
            "application/aml.mini.widget.v1": "{\"status\": \"Completed\", \"workbench_run_details_uri\": \"https://ml.azure.com/runs/AutoML_4917704f-460b-4fba-85a9-34ef682367f4?wsid=/subscriptions/376621af-6a06-4df6-b902-d25c6239f015/resourcegroups/learning/workspaces/mllearningworkspace&tid=16b3c013-d300-468d-ac64-7eda0820b6d3\", \"run_id\": \"AutoML_4917704f-460b-4fba-85a9-34ef682367f4\", \"run_properties\": {\"run_id\": \"AutoML_4917704f-460b-4fba-85a9-34ef682367f4\", \"created_utc\": \"2022-12-13T17:56:25.079014Z\", \"properties\": {\"num_iterations\": \"4\", \"training_type\": \"TrainFull\", \"acquisition_function\": \"EI\", \"primary_metric\": \"AUC_weighted\", \"train_split\": \"0\", \"acquisition_parameter\": \"0\", \"num_cross_validation\": null, \"target\": \"my-compute-cluster\", \"AMLSettingsJsonString\": \"{\\\"path\\\":null,\\\"name\\\":\\\"Automated ML Experiment\\\",\\\"subscription_id\\\":\\\"376621af-6a06-4df6-b902-d25c6239f015\\\",\\\"resource_group\\\":\\\"learning\\\",\\\"workspace_name\\\":\\\"mllearningworkspace\\\",\\\"region\\\":\\\"westeurope\\\",\\\"compute_target\\\":\\\"my-compute-cluster\\\",\\\"spark_service\\\":null,\\\"azure_service\\\":\\\"remote\\\",\\\"many_models\\\":false,\\\"pipeline_fetch_max_batch_size\\\":1,\\\"enable_batch_run\\\":true,\\\"enable_run_restructure\\\":false,\\\"start_auxiliary_runs_before_parent_complete\\\":false,\\\"enable_code_generation\\\":true,\\\"iterations\\\":4,\\\"primary_metric\\\":\\\"AUC_weighted\\\",\\\"task_type\\\":\\\"classification\\\",\\\"positive_label\\\":null,\\\"data_script\\\":null,\\\"test_size\\\":0.0,\\\"test_include_predictions_only\\\":false,\\\"validation_size\\\":0.0,\\\"n_cross_validations\\\":null,\\\"y_min\\\":null,\\\"y_max\\\":null,\\\"num_classes\\\":null,\\\"featurization\\\":\\\"auto\\\",\\\"_ignore_package_version_incompatibilities\\\":false,\\\"is_timeseries\\\":false,\\\"max_cores_per_iteration\\\":1,\\\"max_concurrent_iterations\\\":2,\\\"iteration_timeout_minutes\\\":null,\\\"mem_in_mb\\\":null,\\\"enforce_time_on_windows\\\":false,\\\"experiment_timeout_minutes\\\":8640,\\\"experiment_exit_score\\\":null,\\\"partition_column_names\\\":null,\\\"whitelist_models\\\":null,\\\"blacklist_algos\\\":[\\\"TensorFlowLinearClassifier\\\",\\\"TensorFlowDNN\\\"],\\\"supported_models\\\":[\\\"BernoulliNaiveBayes\\\",\\\"GradientBoosting\\\",\\\"TabnetClassifier\\\",\\\"RandomForest\\\",\\\"TensorFlowLinearClassifier\\\",\\\"XGBoostClassifier\\\",\\\"MultinomialNaiveBayes\\\",\\\"DecisionTree\\\",\\\"SGD\\\",\\\"LightGBM\\\",\\\"AveragedPerceptronClassifier\\\",\\\"LogisticRegression\\\",\\\"SVM\\\",\\\"ExtremeRandomTrees\\\",\\\"TensorFlowDNN\\\",\\\"LinearSVM\\\",\\\"KNN\\\"],\\\"private_models\\\":[],\\\"auto_blacklist\\\":true,\\\"blacklist_samples_reached\\\":false,\\\"exclude_nan_labels\\\":true,\\\"verbosity\\\":20,\\\"_debug_log\\\":\\\"azureml_automl.log\\\",\\\"show_warnings\\\":false,\\\"model_explainability\\\":true,\\\"service_url\\\":null,\\\"sdk_url\\\":null,\\\"sdk_packages\\\":null,\\\"enable_onnx_compatible_models\\\":false,\\\"enable_split_onnx_featurizer_estimator_models\\\":false,\\\"vm_type\\\":\\\"STANDARD_DS11_V2\\\",\\\"telemetry_verbosity\\\":20,\\\"send_telemetry\\\":true,\\\"enable_dnn\\\":false,\\\"scenario\\\":\\\"AutoML\\\",\\\"environment_label\\\":null,\\\"save_mlflow\\\":false,\\\"enable_categorical_indicators\\\":false,\\\"force_text_dnn\\\":false,\\\"enable_feature_sweeping\\\":true,\\\"enable_early_stopping\\\":true,\\\"early_stopping_n_iters\\\":10,\\\"arguments\\\":null,\\\"dataset_id\\\":\\\"a4ebbc72-c287-4175-a3bf-daa52925cd82\\\",\\\"hyperdrive_config\\\":null,\\\"validation_dataset_id\\\":\\\"4c5c4125-65b2-4d87-9161-fa497fcee066\\\",\\\"run_source\\\":null,\\\"metrics\\\":null,\\\"enable_metric_confidence\\\":false,\\\"enable_ensembling\\\":true,\\\"enable_stack_ensembling\\\":true,\\\"ensemble_iterations\\\":4,\\\"enable_tf\\\":false,\\\"enable_subsampling\\\":false,\\\"subsample_seed\\\":null,\\\"enable_nimbusml\\\":false,\\\"enable_streaming\\\":false,\\\"force_streaming\\\":false,\\\"track_child_runs\\\":true,\\\"allowed_private_models\\\":[],\\\"label_column_name\\\":\\\"Diabetic\\\",\\\"weight_column_name\\\":null,\\\"cv_split_column_names\\\":null,\\\"enable_local_managed\\\":false,\\\"_local_managed_run_id\\\":null,\\\"cost_mode\\\":1,\\\"lag_length\\\":0,\\\"metric_operation\\\":\\\"maximize\\\",\\\"preprocess\\\":true}\", \"DataPrepJsonString\": \"{\\\\\\\"training_data\\\\\\\": {\\\\\\\"datasetId\\\\\\\": \\\\\\\"a4ebbc72-c287-4175-a3bf-daa52925cd82\\\\\\\"}, \\\\\\\"validation_data\\\\\\\": {\\\\\\\"datasetId\\\\\\\": \\\\\\\"4c5c4125-65b2-4d87-9161-fa497fcee066\\\\\\\"}, \\\\\\\"datasets\\\\\\\": 0}\", \"EnableSubsampling\": \"False\", \"runTemplate\": \"AutoML\", \"azureml.runsource\": \"automl\", \"display_task_type\": \"classification\", \"dependencies_versions\": \"{\\\"azureml-widgets\\\": \\\"1.44.0\\\", \\\"azureml-training-tabular\\\": \\\"1.44.0\\\", \\\"azureml-train\\\": \\\"1.44.0\\\", \\\"azureml-train-restclients-hyperdrive\\\": \\\"1.44.0\\\", \\\"azureml-train-core\\\": \\\"1.44.0\\\", \\\"azureml-train-automl\\\": \\\"1.44.0\\\", \\\"azureml-train-automl-runtime\\\": \\\"1.44.0\\\", \\\"azureml-train-automl-client\\\": \\\"1.44.0\\\", \\\"azureml-tensorboard\\\": \\\"1.44.0\\\", \\\"azureml-telemetry\\\": \\\"1.44.0\\\", \\\"azureml-sdk\\\": \\\"1.44.0\\\", \\\"azureml-samples\\\": \\\"0+unknown\\\", \\\"azureml-responsibleai\\\": \\\"1.44.0\\\", \\\"azureml-pipeline\\\": \\\"1.44.0\\\", \\\"azureml-pipeline-steps\\\": \\\"1.44.0\\\", \\\"azureml-pipeline-core\\\": \\\"1.44.0\\\", \\\"azureml-opendatasets\\\": \\\"1.44.0\\\", \\\"azureml-mlflow\\\": \\\"1.44.0\\\", \\\"azureml-interpret\\\": \\\"1.44.0\\\", \\\"azureml-inference-server-http\\\": \\\"0.7.4\\\", \\\"azureml-explain-model\\\": \\\"1.44.0\\\", \\\"azureml-defaults\\\": \\\"1.44.0\\\", \\\"azureml-dataset-runtime\\\": \\\"1.44.0\\\", \\\"azureml-dataprep\\\": \\\"4.2.2\\\", \\\"azureml-dataprep-rslex\\\": \\\"2.8.1\\\", \\\"azureml-dataprep-native\\\": \\\"38.0.0\\\", \\\"azureml-datadrift\\\": \\\"1.44.0\\\", \\\"azureml-core\\\": \\\"1.44.0\\\", \\\"azureml-contrib-services\\\": \\\"1.44.0\\\", \\\"azureml-contrib-server\\\": \\\"1.44.0\\\", \\\"azureml-contrib-reinforcementlearning\\\": \\\"1.44.0\\\", \\\"azureml-contrib-pipeline-steps\\\": \\\"1.44.0\\\", \\\"azureml-contrib-notebook\\\": \\\"1.44.0\\\", \\\"azureml-contrib-fairness\\\": \\\"1.44.0\\\", \\\"azureml-contrib-dataset\\\": \\\"1.44.0\\\", \\\"azureml-contrib-automl-pipeline-steps\\\": \\\"1.44.0\\\", \\\"azureml-cli-common\\\": \\\"1.44.0\\\", \\\"azureml-automl-runtime\\\": \\\"1.44.0\\\", \\\"azureml-automl-dnn-nlp\\\": \\\"1.44.0\\\", \\\"azureml-automl-core\\\": \\\"1.44.0\\\", \\\"azureml-accel-models\\\": \\\"1.44.0\\\"}\", \"_aml_system_scenario_identification\": \"Remote.Parent\", \"ClientType\": \"SDK\", \"environment_cpu_name\": \"AzureML-AutoML\", \"environment_cpu_label\": \"prod\", \"environment_gpu_name\": \"AzureML-AutoML-GPU\", \"environment_gpu_label\": \"prod\", \"root_attribution\": \"automl\", \"attribution\": \"AutoML\", \"Orchestrator\": \"AutoML\", \"CancelUri\": \"https://westeurope.api.azureml.ms/jasmine/v1.0/subscriptions/376621af-6a06-4df6-b902-d25c6239f015/resourceGroups/learning/providers/Microsoft.MachineLearningServices/workspaces/mllearningworkspace/experimentids/5e80730c-6dde-4b43-8dfb-69cddc0c22ac/cancel/AutoML_4917704f-460b-4fba-85a9-34ef682367f4\", \"ClientSdkVersion\": \"1.47.0\", \"snapshotId\": \"00000000-0000-0000-0000-000000000000\", \"SetupRunId\": \"AutoML_4917704f-460b-4fba-85a9-34ef682367f4_setup\", \"SetupRunContainerId\": \"dcid.AutoML_4917704f-460b-4fba-85a9-34ef682367f4_setup\", \"FeaturizationRunJsonPath\": \"featurizer_container.json\", \"FeaturizationRunId\": \"AutoML_4917704f-460b-4fba-85a9-34ef682367f4_featurize\", \"ProblemInfoJsonString\": \"{\\\"dataset_num_categorical\\\": 0, \\\"is_sparse\\\": true, \\\"subsampling\\\": false, \\\"has_extra_col\\\": true, \\\"dataset_classes\\\": 2, \\\"dataset_features\\\": 23, \\\"dataset_samples\\\": 10458, \\\"single_frequency_class_detected\\\": false}\", \"ModelExplainRunId\": \"AutoML_4917704f-460b-4fba-85a9-34ef682367f4_ModelExplain\"}, \"tags\": {\"model_explain_run\": \"best_run\", \"_aml_system_automl_run_workspace_id\": \"8c877630-3281-4ea1-89cf-f8f8040c7370\", \"_aml_system_azureml.automlComponent\": \"AutoML\", \"pipeline_id\": \"<c7af0367625be6ac5c2fecbfc72ed444cb7a2111>;<5dfac790c5c209f98a1da2dc1c7fb76f0397324f>;<__AutoML_Ensemble__>;<__AutoML_Stack_Ensemble__>;\", \"score\": \"<0.9919975776544208>;<0.9916932801615012>;<0.9921701418400241>;<0.9921400559297072>;\", \"predicted_cost\": \"<0>;<0>;<0>;<0>;\", \"fit_time\": \"<1.223495>;<0.23299799999999998>;<2>;<4>;\", \"training_percent\": \"<100>;<100>;<100>;<100>;\", \"iteration\": \"<1>;<0>;<2>;<3>;\", \"run_preprocessor\": \"<MaxAbsScaler>;<MaxAbsScaler>;<>;<>;\", \"run_algorithm\": \"<XGBoostClassifier>;<LightGBM>;<VotingEnsemble>;<StackEnsemble>;\", \"automl_best_child_run_id\": \"AutoML_4917704f-460b-4fba-85a9-34ef682367f4_2\", \"model_explain_best_run_child_id\": \"AutoML_4917704f-460b-4fba-85a9-34ef682367f4_2\"}, \"end_time_utc\": \"2022-12-13T18:01:30.951901Z\", \"status\": \"Completed\", \"log_files\": {}, \"log_groups\": [], \"run_duration\": \"0:05:05\", \"run_number\": \"1670954185\", \"run_queued_details\": {\"status\": \"Completed\", \"details\": null}}, \"child_runs\": [{\"run_id\": \"AutoML_4917704f-460b-4fba-85a9-34ef682367f4_setup\", \"run_number\": 1670954198, \"metric\": null, \"status\": \"Completed\", \"run_type\": \"azureml.scriptrun\", \"training_percent\": null, \"start_time\": \"2022-12-13T17:56:45.140548Z\", \"end_time\": \"2022-12-13T17:58:14.718889Z\", \"created_time\": \"2022-12-13T17:56:38.061848Z\", \"created_time_dt\": \"2022-12-13T17:56:38.061848Z\", \"duration\": \"0:01:36\", \"iteration\": null, \"goal\": null, \"run_name\": \"Completed\", \"run_properties\": null}, {\"run_id\": \"AutoML_4917704f-460b-4fba-85a9-34ef682367f4_featurize\", \"run_number\": 1670954295, \"metric\": null, \"status\": \"Completed\", \"run_type\": \"automl.featurization\", \"training_percent\": null, \"start_time\": \"2022-12-13T17:58:15.504225Z\", \"end_time\": \"2022-12-13T18:00:01.774869Z\", \"created_time\": \"2022-12-13T17:58:15.049665Z\", \"created_time_dt\": \"2022-12-13T17:58:15.049665Z\", \"duration\": \"0:01:46\", \"iteration\": null, \"goal\": null, \"run_name\": \"Completed\", \"run_properties\": null}, {\"run_id\": \"AutoML_4917704f-460b-4fba-85a9-34ef682367f4_worker_0\", \"run_number\": 1670954402, \"metric\": null, \"status\": \"Completed\", \"run_type\": \"azureml.scriptrun\", \"training_percent\": null, \"start_time\": \"2022-12-13T18:00:17.154274Z\", \"end_time\": \"2022-12-13T18:00:50.670979Z\", \"created_time\": \"2022-12-13T18:00:02.85456Z\", \"created_time_dt\": \"2022-12-13T18:00:02.85456Z\", \"duration\": \"0:00:47\", \"iteration\": null, \"goal\": null, \"run_name\": \"Completed\", \"run_properties\": null}, {\"run_id\": \"AutoML_4917704f-460b-4fba-85a9-34ef682367f4_worker_1\", \"run_number\": 1670954403, \"metric\": null, \"status\": \"Completed\", \"run_type\": \"azureml.scriptrun\", \"training_percent\": null, \"start_time\": \"2022-12-13T18:00:17.217839Z\", \"end_time\": \"2022-12-13T18:00:47.847057Z\", \"created_time\": \"2022-12-13T18:00:03.394414Z\", \"created_time_dt\": \"2022-12-13T18:00:03.394414Z\", \"duration\": \"0:00:44\", \"iteration\": null, \"goal\": null, \"run_name\": \"Completed\", \"run_properties\": null}, {\"run_id\": \"AutoML_4917704f-460b-4fba-85a9-34ef682367f4_2\", \"run_number\": 1670954443, \"metric\": null, \"status\": \"Completed\", \"run_type\": \"azureml.scriptrun\", \"training_percent\": \"100\", \"start_time\": \"2022-12-13T18:00:53.271023Z\", \"end_time\": \"2022-12-13T18:01:24.066823Z\", \"created_time\": \"2022-12-13T18:00:43.507014Z\", \"created_time_dt\": \"2022-12-13T18:00:43.507014Z\", \"duration\": \"0:00:40\", \"iteration\": \"2\", \"goal\": \"AUC_weighted_max\", \"run_name\": \"VotingEnsemble\", \"run_properties\": \"classification_labels=numpy.array([0, 1]\", \"primary_metric\": 0.99217014, \"best_metric\": 0.99217014}], \"children_metrics\": {\"categories\": [0], \"series\": {\"average_precision_score_macro\": [{\"categories\": [\"2\"], \"mode\": \"markers\", \"name\": \"average_precision_score_macro\", \"stepped\": false, \"type\": \"scatter\", \"data\": [0.9907038093756348]}, {\"categories\": [\"2\"], \"mode\": \"lines\", \"name\": \"average_precision_score_macro_max\", \"stepped\": true, \"type\": \"scatter\", \"data\": [0.9907038093756348]}], \"AUC_micro\": [{\"categories\": [\"2\"], \"mode\": \"markers\", \"name\": \"AUC_micro\", \"stepped\": false, \"type\": \"scatter\", \"data\": [0.9929096135079392]}, {\"categories\": [\"2\"], \"mode\": \"lines\", \"name\": \"AUC_micro_max\", \"stepped\": true, \"type\": \"scatter\", \"data\": [0.9929096135079392]}], \"accuracy\": [{\"categories\": [\"2\"], \"mode\": \"markers\", \"name\": \"accuracy\", \"stepped\": false, \"type\": \"scatter\", \"data\": [0.9619110523998239]}, {\"categories\": [\"2\"], \"mode\": \"lines\", \"name\": \"accuracy_max\", \"stepped\": true, \"type\": \"scatter\", \"data\": [0.9619110523998239]}], \"recall_score_micro\": [{\"categories\": [\"2\"], \"mode\": \"markers\", \"name\": \"recall_score_micro\", \"stepped\": false, \"type\": \"scatter\", \"data\": [0.9619110523998239]}, {\"categories\": [\"2\"], \"mode\": \"lines\", \"name\": \"recall_score_micro_max\", \"stepped\": true, \"type\": \"scatter\", \"data\": [0.9619110523998239]}], \"precision_score_weighted\": [{\"categories\": [\"2\"], \"mode\": \"markers\", \"name\": \"precision_score_weighted\", \"stepped\": false, \"type\": \"scatter\", \"data\": [0.9618293144899906]}, {\"categories\": [\"2\"], \"mode\": \"lines\", \"name\": \"precision_score_weighted_max\", \"stepped\": true, \"type\": \"scatter\", \"data\": [0.9618293144899906]}], \"norm_macro_recall\": [{\"categories\": [\"2\"], \"mode\": \"markers\", \"name\": \"norm_macro_recall\", \"stepped\": false, \"type\": \"scatter\", \"data\": [0.9120603884391882]}, {\"categories\": [\"2\"], \"mode\": \"lines\", \"name\": \"norm_macro_recall_max\", \"stepped\": true, \"type\": \"scatter\", \"data\": [0.9120603884391882]}], \"balanced_accuracy\": [{\"categories\": [\"2\"], \"mode\": \"markers\", \"name\": \"balanced_accuracy\", \"stepped\": false, \"type\": \"scatter\", \"data\": [0.9560301942195941]}, {\"categories\": [\"2\"], \"mode\": \"lines\", \"name\": \"balanced_accuracy_max\", \"stepped\": true, \"type\": \"scatter\", \"data\": [0.9560301942195941]}], \"weighted_accuracy\": [{\"categories\": [\"2\"], \"mode\": \"markers\", \"name\": \"weighted_accuracy\", \"stepped\": false, \"type\": \"scatter\", \"data\": [0.9667446548563369]}, {\"categories\": [\"2\"], \"mode\": \"lines\", \"name\": \"weighted_accuracy_max\", \"stepped\": true, \"type\": \"scatter\", \"data\": [0.9667446548563369]}], \"matthews_correlation\": [{\"categories\": [\"2\"], \"mode\": \"markers\", \"name\": \"matthews_correlation\", \"stepped\": false, \"type\": \"scatter\", \"data\": [0.9153304328646035]}, {\"categories\": [\"2\"], \"mode\": \"lines\", \"name\": \"matthews_correlation_max\", \"stepped\": true, \"type\": \"scatter\", \"data\": [0.9153304328646035]}], \"f1_score_micro\": [{\"categories\": [\"2\"], \"mode\": \"markers\", \"name\": \"f1_score_micro\", \"stepped\": false, \"type\": \"scatter\", \"data\": [0.9619110523998239]}, {\"categories\": [\"2\"], \"mode\": \"lines\", \"name\": \"f1_score_micro_max\", \"stepped\": true, \"type\": \"scatter\", \"data\": [0.9619110523998239]}], \"average_precision_score_weighted\": [{\"categories\": [\"2\"], \"mode\": \"markers\", \"name\": \"average_precision_score_weighted\", \"stepped\": false, \"type\": \"scatter\", \"data\": [0.9923310428255883]}, {\"categories\": [\"2\"], \"mode\": \"lines\", \"name\": \"average_precision_score_weighted_max\", \"stepped\": true, \"type\": \"scatter\", \"data\": [0.9923310428255883]}], \"recall_score_weighted\": [{\"categories\": [\"2\"], \"mode\": \"markers\", \"name\": \"recall_score_weighted\", \"stepped\": false, \"type\": \"scatter\", \"data\": [0.9619110523998239]}, {\"categories\": [\"2\"], \"mode\": \"lines\", \"name\": \"recall_score_weighted_max\", \"stepped\": true, \"type\": \"scatter\", \"data\": [0.9619110523998239]}], \"precision_score_macro\": [{\"categories\": [\"2\"], \"mode\": \"markers\", \"name\": \"precision_score_macro\", \"stepped\": false, \"type\": \"scatter\", \"data\": [0.9593061007516636]}, {\"categories\": [\"2\"], \"mode\": \"lines\", \"name\": \"precision_score_macro_max\", \"stepped\": true, \"type\": \"scatter\", \"data\": [0.9593061007516636]}], \"log_loss\": [{\"categories\": [\"2\"], \"mode\": \"markers\", \"name\": \"log_loss\", \"stepped\": false, \"type\": \"scatter\", \"data\": [0.1053382144791426]}, {\"categories\": [\"2\"], \"mode\": \"lines\", \"name\": \"log_loss_min\", \"stepped\": true, \"type\": \"scatter\", \"data\": [0.1053382144791426]}], \"average_precision_score_micro\": [{\"categories\": [\"2\"], \"mode\": \"markers\", \"name\": \"average_precision_score_micro\", \"stepped\": false, \"type\": \"scatter\", \"data\": [0.9930387904451217]}, {\"categories\": [\"2\"], \"mode\": \"lines\", \"name\": \"average_precision_score_micro_max\", \"stepped\": true, \"type\": \"scatter\", \"data\": [0.9930387904451217]}], \"AUC_macro\": [{\"categories\": [\"2\"], \"mode\": \"markers\", \"name\": \"AUC_macro\", \"stepped\": false, \"type\": \"scatter\", \"data\": [0.9921701418400242]}, {\"categories\": [\"2\"], \"mode\": \"lines\", \"name\": \"AUC_macro_max\", \"stepped\": true, \"type\": \"scatter\", \"data\": [0.9921701418400242]}], \"recall_score_macro\": [{\"categories\": [\"2\"], \"mode\": \"markers\", \"name\": \"recall_score_macro\", \"stepped\": false, \"type\": \"scatter\", \"data\": [0.9560301942195941]}, {\"categories\": [\"2\"], \"mode\": \"lines\", \"name\": \"recall_score_macro_max\", \"stepped\": true, \"type\": \"scatter\", \"data\": [0.9560301942195941]}], \"precision_score_micro\": [{\"categories\": [\"2\"], \"mode\": \"markers\", \"name\": \"precision_score_micro\", \"stepped\": false, \"type\": \"scatter\", \"data\": [0.9619110523998239]}, {\"categories\": [\"2\"], \"mode\": \"lines\", \"name\": \"precision_score_micro_max\", \"stepped\": true, \"type\": \"scatter\", \"data\": [0.9619110523998239]}], \"f1_score_weighted\": [{\"categories\": [\"2\"], \"mode\": \"markers\", \"name\": \"f1_score_weighted\", \"stepped\": false, \"type\": \"scatter\", \"data\": [0.9618428958795621]}, {\"categories\": [\"2\"], \"mode\": \"lines\", \"name\": \"f1_score_weighted_max\", \"stepped\": true, \"type\": \"scatter\", \"data\": [0.9618428958795621]}], \"AUC_weighted\": [{\"categories\": [\"2\"], \"mode\": \"markers\", \"name\": \"AUC_weighted\", \"stepped\": false, \"type\": \"scatter\", \"data\": [0.9921701418400241]}, {\"categories\": [\"2\"], \"mode\": \"lines\", \"name\": \"AUC_weighted_max\", \"stepped\": true, \"type\": \"scatter\", \"data\": [0.9921701418400241]}], \"f1_score_macro\": [{\"categories\": [\"2\"], \"mode\": \"markers\", \"name\": \"f1_score_macro\", \"stepped\": false, \"type\": \"scatter\", \"data\": [0.9576349715851422]}, {\"categories\": [\"2\"], \"mode\": \"lines\", \"name\": \"f1_score_macro_max\", \"stepped\": true, \"type\": \"scatter\", \"data\": [0.9576349715851422]}]}, \"metricName\": null, \"primaryMetricName\": \"AUC_weighted\", \"showLegend\": false}, \"run_metrics\": [{\"name\": \"experiment_status\", \"run_id\": \"AutoML_4917704f-460b-4fba-85a9-34ef682367f4\", \"categories\": [0, 1, 2, 3, 4, 5, 6, 7, 8, 9, 10, 11, 12], \"series\": [{\"data\": [\"DatasetEvaluation\", \"FeaturesGeneration\", \"DatasetFeaturization\", \"DatasetFeaturizationCompleted\", \"ModelSelection\", \"BestRunExplainModel\", \"ModelExplanationDataSetSetup\", \"PickSurrogateModel\", \"EngineeredFeatureExplanations\", \"EngineeredFeatureExplanations\", \"RawFeaturesExplanations\", \"RawFeaturesExplanations\", \"BestRunExplainModel\"]}]}, {\"name\": \"experiment_status_description\", \"run_id\": \"AutoML_4917704f-460b-4fba-85a9-34ef682367f4\", \"categories\": [0, 1, 2, 3, 4, 5, 6, 7, 8, 9, 10, 11, 12], \"series\": [{\"data\": [\"Gathering dataset statistics.\", \"Generating features for the dataset.\", \"Beginning to fit featurizers and featurize the dataset.\", \"Completed fit featurizers and featurizing the dataset.\", \"Beginning model selection.\", \"Best run model explanations started\", \"Model explanations data setup completed\", \"Choosing LightGBM as the surrogate model for explanations\", \"Computation of engineered features started\", \"Computation of engineered features completed\", \"Computation of raw features started\", \"Computation of raw features completed\", \"Best run model explanations completed\"]}]}, {\"name\": \"average_precision_score_macro\", \"run_id\": \"AutoML_4917704f-460b-4fba-85a9-34ef682367f4\", \"categories\": [0], \"series\": [{\"data\": [0.9907038093756348]}]}, {\"name\": \"f1_score_weighted\", \"run_id\": \"AutoML_4917704f-460b-4fba-85a9-34ef682367f4\", \"categories\": [0], \"series\": [{\"data\": [0.9618428958795621]}]}, {\"name\": \"precision_score_macro\", \"run_id\": \"AutoML_4917704f-460b-4fba-85a9-34ef682367f4\", \"categories\": [0], \"series\": [{\"data\": [0.9593061007516636]}]}, {\"name\": \"f1_score_macro\", \"run_id\": \"AutoML_4917704f-460b-4fba-85a9-34ef682367f4\", \"categories\": [0], \"series\": [{\"data\": [0.9576349715851422]}]}, {\"name\": \"accuracy\", \"run_id\": \"AutoML_4917704f-460b-4fba-85a9-34ef682367f4\", \"categories\": [0], \"series\": [{\"data\": [0.9619110523998239]}]}, {\"name\": \"average_precision_score_micro\", \"run_id\": \"AutoML_4917704f-460b-4fba-85a9-34ef682367f4\", \"categories\": [0], \"series\": [{\"data\": [0.9930387904451217]}]}, {\"name\": \"recall_score_macro\", \"run_id\": \"AutoML_4917704f-460b-4fba-85a9-34ef682367f4\", \"categories\": [0], \"series\": [{\"data\": [0.9560301942195941]}]}, {\"name\": \"AUC_macro\", \"run_id\": \"AutoML_4917704f-460b-4fba-85a9-34ef682367f4\", \"categories\": [0], \"series\": [{\"data\": [0.9921701418400242]}]}, {\"name\": \"precision_score_micro\", \"run_id\": \"AutoML_4917704f-460b-4fba-85a9-34ef682367f4\", \"categories\": [0], \"series\": [{\"data\": [0.9619110523998239]}]}, {\"name\": \"balanced_accuracy\", \"run_id\": \"AutoML_4917704f-460b-4fba-85a9-34ef682367f4\", \"categories\": [0], \"series\": [{\"data\": [0.9560301942195941]}]}, {\"name\": \"weighted_accuracy\", \"run_id\": \"AutoML_4917704f-460b-4fba-85a9-34ef682367f4\", \"categories\": [0], \"series\": [{\"data\": [0.9667446548563369]}]}, {\"name\": \"AUC_weighted\", \"run_id\": \"AutoML_4917704f-460b-4fba-85a9-34ef682367f4\", \"categories\": [0], \"series\": [{\"data\": [0.9921701418400241]}]}, {\"name\": \"log_loss\", \"run_id\": \"AutoML_4917704f-460b-4fba-85a9-34ef682367f4\", \"categories\": [0], \"series\": [{\"data\": [0.1053382144791426]}]}, {\"name\": \"average_precision_score_weighted\", \"run_id\": \"AutoML_4917704f-460b-4fba-85a9-34ef682367f4\", \"categories\": [0], \"series\": [{\"data\": [0.9923310428255883]}]}, {\"name\": \"precision_score_weighted\", \"run_id\": \"AutoML_4917704f-460b-4fba-85a9-34ef682367f4\", \"categories\": [0], \"series\": [{\"data\": [0.9618293144899906]}]}, {\"name\": \"recall_score_micro\", \"run_id\": \"AutoML_4917704f-460b-4fba-85a9-34ef682367f4\", \"categories\": [0], \"series\": [{\"data\": [0.9619110523998239]}]}, {\"name\": \"norm_macro_recall\", \"run_id\": \"AutoML_4917704f-460b-4fba-85a9-34ef682367f4\", \"categories\": [0], \"series\": [{\"data\": [0.9120603884391882]}]}, {\"name\": \"recall_score_weighted\", \"run_id\": \"AutoML_4917704f-460b-4fba-85a9-34ef682367f4\", \"categories\": [0], \"series\": [{\"data\": [0.9619110523998239]}]}, {\"name\": \"matthews_correlation\", \"run_id\": \"AutoML_4917704f-460b-4fba-85a9-34ef682367f4\", \"categories\": [0], \"series\": [{\"data\": [0.9153304328646035]}]}, {\"name\": \"f1_score_micro\", \"run_id\": \"AutoML_4917704f-460b-4fba-85a9-34ef682367f4\", \"categories\": [0], \"series\": [{\"data\": [0.9619110523998239]}]}, {\"name\": \"AUC_micro\", \"run_id\": \"AutoML_4917704f-460b-4fba-85a9-34ef682367f4\", \"categories\": [0], \"series\": [{\"data\": [0.9929096135079392]}]}], \"run_logs\": \"\\nRun is completed.\", \"graph\": {}, \"widget_settings\": {\"childWidgetDisplay\": \"popup\", \"send_telemetry\": false, \"log_level\": \"INFO\", \"sdk_version\": \"1.44.0\"}, \"loading\": false}"
          },
          "metadata": {},
          "output_type": "display_data"
        },
        {
          "data": {
            "text/html": [
              "<table style=\"width:100%\"><tr><th>Experiment</th><th>Id</th><th>Type</th><th>Status</th><th>Details Page</th><th>Docs Page</th></tr><tr><td>mslearn-diabetes-automl-sdk</td><td>AutoML_4917704f-460b-4fba-85a9-34ef682367f4</td><td>automl</td><td>NotStarted</td><td><a href=\"https://ml.azure.com/runs/AutoML_4917704f-460b-4fba-85a9-34ef682367f4?wsid=/subscriptions/376621af-6a06-4df6-b902-d25c6239f015/resourcegroups/learning/workspaces/mllearningworkspace&amp;tid=16b3c013-d300-468d-ac64-7eda0820b6d3\" target=\"_blank\" rel=\"noopener\">Link to Azure Machine Learning studio</a></td><td><a href=\"https://docs.microsoft.com/en-us/python/api/overview/azure/ml/intro?view=azure-ml-py\" target=\"_blank\" rel=\"noopener\">Link to Documentation</a></td></tr></table>"
            ],
            "text/plain": [
              "<IPython.core.display.HTML object>"
            ]
          },
          "metadata": {},
          "output_type": "display_data"
        },
        {
          "name": "stdout",
          "output_type": "stream",
          "text": [
            "\n",
            "Current status: FeaturesGeneration. Generating features for the dataset.\n",
            "Current status: DatasetFeaturizationCompleted. Completed fit featurizers and featurizing the dataset.\n",
            "Current status: ModelSelection. Beginning model selection.\n",
            "\n",
            "********************************************************************************************\n",
            "DATA GUARDRAILS: \n",
            "\n",
            "TYPE:         Class balancing detection\n",
            "STATUS:       PASSED\n",
            "DESCRIPTION:  Your inputs were analyzed, and all classes are balanced in your training data.\n",
            "              Learn more about imbalanced data: https://aka.ms/AutomatedMLImbalancedData\n",
            "\n",
            "********************************************************************************************\n",
            "\n",
            "TYPE:         Missing feature values imputation\n",
            "STATUS:       PASSED\n",
            "DESCRIPTION:  No feature missing values were detected in the training data.\n",
            "              Learn more about missing value imputation: https://aka.ms/AutomatedMLFeaturization\n",
            "\n",
            "********************************************************************************************\n",
            "\n",
            "TYPE:         High cardinality feature detection\n",
            "STATUS:       PASSED\n",
            "DESCRIPTION:  Your inputs were analyzed, and no high cardinality features were detected.\n",
            "              Learn more about high cardinality feature handling: https://aka.ms/AutomatedMLFeaturization\n",
            "\n",
            "********************************************************************************************\n",
            "\n",
            "********************************************************************************************\n",
            "ITER: The iteration being evaluated.\n",
            "PIPELINE: A summary description of the pipeline being evaluated.\n",
            "DURATION: Time taken for the current iteration.\n",
            "METRIC: The result of computing score on the fitted pipeline.\n",
            "BEST: The best observed score thus far.\n",
            "********************************************************************************************\n",
            "\n",
            " ITER   PIPELINE                                       DURATION            METRIC      BEST\n",
            "    1   MaxAbsScaler XGBoostClassifier                 0:00:13             0.9920    0.9920\n",
            "    0   MaxAbsScaler LightGBM                          0:00:12             0.9917    0.9920\n",
            "    2    VotingEnsemble                                0:00:31             0.9922    0.9922\n",
            "    3    StackEnsemble                                 0:00:32             0.9921    0.9922\n"
          ]
        },
        {
          "data": {
            "text/plain": [
              "{'runId': 'AutoML_4917704f-460b-4fba-85a9-34ef682367f4',\n",
              " 'target': 'my-compute-cluster',\n",
              " 'status': 'Completed',\n",
              " 'startTimeUtc': '2022-12-13T17:56:39.285145Z',\n",
              " 'endTimeUtc': '2022-12-13T18:01:30.951901Z',\n",
              " 'services': {},\n",
              " 'properties': {'num_iterations': '4',\n",
              "  'training_type': 'TrainFull',\n",
              "  'acquisition_function': 'EI',\n",
              "  'primary_metric': 'AUC_weighted',\n",
              "  'train_split': '0',\n",
              "  'acquisition_parameter': '0',\n",
              "  'num_cross_validation': None,\n",
              "  'target': 'my-compute-cluster',\n",
              "  'AMLSettingsJsonString': '{\"path\":null,\"name\":\"Automated ML Experiment\",\"subscription_id\":\"376621af-6a06-4df6-b902-d25c6239f015\",\"resource_group\":\"learning\",\"workspace_name\":\"mllearningworkspace\",\"region\":\"westeurope\",\"compute_target\":\"my-compute-cluster\",\"spark_service\":null,\"azure_service\":\"remote\",\"many_models\":false,\"pipeline_fetch_max_batch_size\":1,\"enable_batch_run\":true,\"enable_run_restructure\":false,\"start_auxiliary_runs_before_parent_complete\":false,\"enable_code_generation\":true,\"iterations\":4,\"primary_metric\":\"AUC_weighted\",\"task_type\":\"classification\",\"positive_label\":null,\"data_script\":null,\"test_size\":0.0,\"test_include_predictions_only\":false,\"validation_size\":0.0,\"n_cross_validations\":null,\"y_min\":null,\"y_max\":null,\"num_classes\":null,\"featurization\":\"auto\",\"_ignore_package_version_incompatibilities\":false,\"is_timeseries\":false,\"max_cores_per_iteration\":1,\"max_concurrent_iterations\":2,\"iteration_timeout_minutes\":null,\"mem_in_mb\":null,\"enforce_time_on_windows\":false,\"experiment_timeout_minutes\":8640,\"experiment_exit_score\":null,\"partition_column_names\":null,\"whitelist_models\":null,\"blacklist_algos\":[\"TensorFlowLinearClassifier\",\"TensorFlowDNN\"],\"supported_models\":[\"BernoulliNaiveBayes\",\"GradientBoosting\",\"TabnetClassifier\",\"RandomForest\",\"TensorFlowLinearClassifier\",\"XGBoostClassifier\",\"MultinomialNaiveBayes\",\"DecisionTree\",\"SGD\",\"LightGBM\",\"AveragedPerceptronClassifier\",\"LogisticRegression\",\"SVM\",\"ExtremeRandomTrees\",\"TensorFlowDNN\",\"LinearSVM\",\"KNN\"],\"private_models\":[],\"auto_blacklist\":true,\"blacklist_samples_reached\":false,\"exclude_nan_labels\":true,\"verbosity\":20,\"_debug_log\":\"azureml_automl.log\",\"show_warnings\":false,\"model_explainability\":true,\"service_url\":null,\"sdk_url\":null,\"sdk_packages\":null,\"enable_onnx_compatible_models\":false,\"enable_split_onnx_featurizer_estimator_models\":false,\"vm_type\":\"STANDARD_DS11_V2\",\"telemetry_verbosity\":20,\"send_telemetry\":true,\"enable_dnn\":false,\"scenario\":\"AutoML\",\"environment_label\":null,\"save_mlflow\":false,\"enable_categorical_indicators\":false,\"force_text_dnn\":false,\"enable_feature_sweeping\":true,\"enable_early_stopping\":true,\"early_stopping_n_iters\":10,\"arguments\":null,\"dataset_id\":\"a4ebbc72-c287-4175-a3bf-daa52925cd82\",\"hyperdrive_config\":null,\"validation_dataset_id\":\"4c5c4125-65b2-4d87-9161-fa497fcee066\",\"run_source\":null,\"metrics\":null,\"enable_metric_confidence\":false,\"enable_ensembling\":true,\"enable_stack_ensembling\":true,\"ensemble_iterations\":4,\"enable_tf\":false,\"enable_subsampling\":false,\"subsample_seed\":null,\"enable_nimbusml\":false,\"enable_streaming\":false,\"force_streaming\":false,\"track_child_runs\":true,\"allowed_private_models\":[],\"label_column_name\":\"Diabetic\",\"weight_column_name\":null,\"cv_split_column_names\":null,\"enable_local_managed\":false,\"_local_managed_run_id\":null,\"cost_mode\":1,\"lag_length\":0,\"metric_operation\":\"maximize\",\"preprocess\":true}',\n",
              "  'DataPrepJsonString': '{\\\\\"training_data\\\\\": {\\\\\"datasetId\\\\\": \\\\\"a4ebbc72-c287-4175-a3bf-daa52925cd82\\\\\"}, \\\\\"validation_data\\\\\": {\\\\\"datasetId\\\\\": \\\\\"4c5c4125-65b2-4d87-9161-fa497fcee066\\\\\"}, \\\\\"datasets\\\\\": 0}',\n",
              "  'EnableSubsampling': 'False',\n",
              "  'runTemplate': 'AutoML',\n",
              "  'azureml.runsource': 'automl',\n",
              "  'display_task_type': 'classification',\n",
              "  'dependencies_versions': '{\"azureml-widgets\": \"1.44.0\", \"azureml-training-tabular\": \"1.44.0\", \"azureml-train\": \"1.44.0\", \"azureml-train-restclients-hyperdrive\": \"1.44.0\", \"azureml-train-core\": \"1.44.0\", \"azureml-train-automl\": \"1.44.0\", \"azureml-train-automl-runtime\": \"1.44.0\", \"azureml-train-automl-client\": \"1.44.0\", \"azureml-tensorboard\": \"1.44.0\", \"azureml-telemetry\": \"1.44.0\", \"azureml-sdk\": \"1.44.0\", \"azureml-samples\": \"0+unknown\", \"azureml-responsibleai\": \"1.44.0\", \"azureml-pipeline\": \"1.44.0\", \"azureml-pipeline-steps\": \"1.44.0\", \"azureml-pipeline-core\": \"1.44.0\", \"azureml-opendatasets\": \"1.44.0\", \"azureml-mlflow\": \"1.44.0\", \"azureml-interpret\": \"1.44.0\", \"azureml-inference-server-http\": \"0.7.4\", \"azureml-explain-model\": \"1.44.0\", \"azureml-defaults\": \"1.44.0\", \"azureml-dataset-runtime\": \"1.44.0\", \"azureml-dataprep\": \"4.2.2\", \"azureml-dataprep-rslex\": \"2.8.1\", \"azureml-dataprep-native\": \"38.0.0\", \"azureml-datadrift\": \"1.44.0\", \"azureml-core\": \"1.44.0\", \"azureml-contrib-services\": \"1.44.0\", \"azureml-contrib-server\": \"1.44.0\", \"azureml-contrib-reinforcementlearning\": \"1.44.0\", \"azureml-contrib-pipeline-steps\": \"1.44.0\", \"azureml-contrib-notebook\": \"1.44.0\", \"azureml-contrib-fairness\": \"1.44.0\", \"azureml-contrib-dataset\": \"1.44.0\", \"azureml-contrib-automl-pipeline-steps\": \"1.44.0\", \"azureml-cli-common\": \"1.44.0\", \"azureml-automl-runtime\": \"1.44.0\", \"azureml-automl-dnn-nlp\": \"1.44.0\", \"azureml-automl-core\": \"1.44.0\", \"azureml-accel-models\": \"1.44.0\"}',\n",
              "  '_aml_system_scenario_identification': 'Remote.Parent',\n",
              "  'ClientType': 'SDK',\n",
              "  'environment_cpu_name': 'AzureML-AutoML',\n",
              "  'environment_cpu_label': 'prod',\n",
              "  'environment_gpu_name': 'AzureML-AutoML-GPU',\n",
              "  'environment_gpu_label': 'prod',\n",
              "  'root_attribution': 'automl',\n",
              "  'attribution': 'AutoML',\n",
              "  'Orchestrator': 'AutoML',\n",
              "  'CancelUri': 'https://westeurope.api.azureml.ms/jasmine/v1.0/subscriptions/376621af-6a06-4df6-b902-d25c6239f015/resourceGroups/learning/providers/Microsoft.MachineLearningServices/workspaces/mllearningworkspace/experimentids/5e80730c-6dde-4b43-8dfb-69cddc0c22ac/cancel/AutoML_4917704f-460b-4fba-85a9-34ef682367f4',\n",
              "  'ClientSdkVersion': '1.47.0',\n",
              "  'snapshotId': '00000000-0000-0000-0000-000000000000',\n",
              "  'SetupRunId': 'AutoML_4917704f-460b-4fba-85a9-34ef682367f4_setup',\n",
              "  'SetupRunContainerId': 'dcid.AutoML_4917704f-460b-4fba-85a9-34ef682367f4_setup',\n",
              "  'FeaturizationRunJsonPath': 'featurizer_container.json',\n",
              "  'FeaturizationRunId': 'AutoML_4917704f-460b-4fba-85a9-34ef682367f4_featurize',\n",
              "  'ProblemInfoJsonString': '{\"dataset_num_categorical\": 0, \"is_sparse\": true, \"subsampling\": false, \"has_extra_col\": true, \"dataset_classes\": 2, \"dataset_features\": 23, \"dataset_samples\": 10458, \"single_frequency_class_detected\": false}',\n",
              "  'ModelExplainRunId': 'AutoML_4917704f-460b-4fba-85a9-34ef682367f4_ModelExplain'},\n",
              " 'inputDatasets': [{'dataset': {'id': 'a4ebbc72-c287-4175-a3bf-daa52925cd82'}, 'consumptionDetails': {'type': 'RunInput', 'inputName': 'training_data', 'mechanism': 'Direct'}}, {'dataset': {'id': '4c5c4125-65b2-4d87-9161-fa497fcee066'}, 'consumptionDetails': {'type': 'RunInput', 'inputName': 'validation_data', 'mechanism': 'Direct'}}],\n",
              " 'outputDatasets': [],\n",
              " 'logFiles': {},\n",
              " 'submittedBy': 'Carlo Binda'}"
            ]
          },
          "execution_count": 8,
          "metadata": {},
          "output_type": "execute_result"
        }
      ],
      "source": [
        "from azureml.core.experiment import Experiment\n",
        "from azureml.widgets import RunDetails\n",
        "\n",
        "print('Submitting Auto ML experiment...')\n",
        "automl_experiment = Experiment(ws, 'mslearn-diabetes-automl-sdk')\n",
        "automl_run = automl_experiment.submit(automl_config)\n",
        "RunDetails(automl_run).show()\n",
        "automl_run.wait_for_completion(show_output=True)"
      ]
    },
    {
      "cell_type": "markdown",
      "metadata": {},
      "source": [
        "## View child run details\n",
        "\n",
        "When the experiment has completed, view the output in the widget, and click the run that produced the best result to see its details.\n",
        "\n",
        "Then click the link to view the experiment details in Azure Machine Learning studio and view the overall experiment details before viewing the details for the individual run that produced the best result. There's lots of information here about the performance of the model generated.\n",
        "\n",
        "You can also retrieve all of the child runs and view their metrics using the SDK:"
      ]
    },
    {
      "cell_type": "code",
      "execution_count": 9,
      "metadata": {},
      "outputs": [
        {
          "name": "stdout",
          "output_type": "stream",
          "text": [
            "Run ID AutoML_4917704f-460b-4fba-85a9-34ef682367f4_3\n",
            "\t {'AUC_macro': 0.9921400559297073}\n",
            "\t {'f1_score_micro': 0.9603698811096433}\n",
            "\t {'weighted_accuracy': 0.9670337104332549}\n",
            "\t {'accuracy': 0.9603698811096433}\n",
            "\t {'norm_macro_recall': 0.9045245126028805}\n",
            "\t {'log_loss': 0.15631623249339385}\n",
            "\t {'average_precision_score_macro': 0.9906840077422455}\n",
            "\t {'recall_score_weighted': 0.9603698811096433}\n",
            "\t {'balanced_accuracy': 0.9522622563014402}\n",
            "\t {'recall_score_micro': 0.9603698811096433}\n",
            "\t {'precision_score_weighted': 0.9603139960870336}\n",
            "\t {'precision_score_macro': 0.9595204287659768}\n",
            "\t {'AUC_micro': 0.99019969399553}\n",
            "\t {'matthews_correlation': 0.9117537955617314}\n",
            "\t {'average_precision_score_micro': 0.9902535444148888}\n",
            "\t {'f1_score_macro': 0.9557330651197604}\n",
            "\t {'recall_score_macro': 0.9522622563014402}\n",
            "\t {'precision_score_micro': 0.9603698811096433}\n",
            "\t {'average_precision_score_weighted': 0.992311184226761}\n",
            "\t {'AUC_weighted': 0.9921400559297072}\n",
            "\t {'f1_score_weighted': 0.9602121662800556}\n",
            "\t {'confusion_matrix': 'aml://artifactId/ExperimentRun/dcid.AutoML_4917704f-460b-4fba-85a9-34ef682367f4_3/confusion_matrix'}\n",
            "\t {'accuracy_table': 'aml://artifactId/ExperimentRun/dcid.AutoML_4917704f-460b-4fba-85a9-34ef682367f4_3/accuracy_table'}\n",
            "Run ID AutoML_4917704f-460b-4fba-85a9-34ef682367f4_2\n",
            "\t {'average_precision_score_macro': 0.9907038093756348}\n",
            "\t {'AUC_micro': 0.9929096135079392}\n",
            "\t {'accuracy': 0.9619110523998239}\n",
            "\t {'recall_score_micro': 0.9619110523998239}\n",
            "\t {'precision_score_weighted': 0.9618293144899906}\n",
            "\t {'norm_macro_recall': 0.9120603884391882}\n",
            "\t {'balanced_accuracy': 0.9560301942195941}\n",
            "\t {'weighted_accuracy': 0.9667446548563369}\n",
            "\t {'matthews_correlation': 0.9153304328646035}\n",
            "\t {'f1_score_micro': 0.9619110523998239}\n",
            "\t {'average_precision_score_weighted': 0.9923310428255883}\n",
            "\t {'recall_score_weighted': 0.9619110523998239}\n",
            "\t {'precision_score_macro': 0.9593061007516636}\n",
            "\t {'log_loss': 0.1053382144791426}\n",
            "\t {'average_precision_score_micro': 0.9930387904451217}\n",
            "\t {'AUC_macro': 0.9921701418400242}\n",
            "\t {'recall_score_macro': 0.9560301942195941}\n",
            "\t {'precision_score_micro': 0.9619110523998239}\n",
            "\t {'f1_score_weighted': 0.9618428958795621}\n",
            "\t {'AUC_weighted': 0.9921701418400241}\n",
            "\t {'f1_score_macro': 0.9576349715851422}\n",
            "\t {'confusion_matrix': 'aml://artifactId/ExperimentRun/dcid.AutoML_4917704f-460b-4fba-85a9-34ef682367f4_2/confusion_matrix'}\n",
            "\t {'accuracy_table': 'aml://artifactId/ExperimentRun/dcid.AutoML_4917704f-460b-4fba-85a9-34ef682367f4_2/accuracy_table'}\n",
            "Run ID AutoML_4917704f-460b-4fba-85a9-34ef682367f4_0\n",
            "\t {'balanced_accuracy': 0.9528736449789517}\n",
            "\t {'precision_score_weighted': 0.9581140611072926}\n",
            "\t {'average_precision_score_weighted': 0.9919129317218731}\n",
            "\t {'f1_score_weighted': 0.958136020643694}\n",
            "\t {'average_precision_score_micro': 0.9925872478423031}\n",
            "\t {'AUC_micro': 0.992440824819906}\n",
            "\t {'recall_score_macro': 0.9528736449789517}\n",
            "\t {'accuracy': 0.9581682078379569}\n",
            "\t {'precision_score_macro': 0.9542696432301417}\n",
            "\t {'recall_score_weighted': 0.9581682078379569}\n",
            "\t {'precision_score_micro': 0.9581682078379569}\n",
            "\t {'AUC_macro': 0.9916932801615013}\n",
            "\t {'AUC_weighted': 0.9916932801615012}\n",
            "\t {'f1_score_micro': 0.9581682078379569}\n",
            "\t {'matthews_correlation': 0.907142214061108}\n",
            "\t {'norm_macro_recall': 0.9057472899579033}\n",
            "\t {'weighted_accuracy': 0.9625199216962308}\n",
            "\t {'recall_score_micro': 0.9581682078379569}\n",
            "\t {'log_loss': 0.11032196337452847}\n",
            "\t {'f1_score_macro': 0.9535654390583649}\n",
            "\t {'average_precision_score_macro': 0.9902137638352239}\n",
            "\t {'confusion_matrix': 'aml://artifactId/ExperimentRun/dcid.AutoML_4917704f-460b-4fba-85a9-34ef682367f4_0/confusion_matrix'}\n",
            "\t {'accuracy_table': 'aml://artifactId/ExperimentRun/dcid.AutoML_4917704f-460b-4fba-85a9-34ef682367f4_0/accuracy_table'}\n",
            "Run ID AutoML_4917704f-460b-4fba-85a9-34ef682367f4_1\n",
            "\t {'precision_score_weighted': 0.9600568538805352}\n",
            "\t {'AUC_micro': 0.9927272556292936}\n",
            "\t {'recall_score_micro': 0.9601497137824747}\n",
            "\t {'accuracy': 0.9601497137824747}\n",
            "\t {'balanced_accuracy': 0.9537728913483882}\n",
            "\t {'AUC_weighted': 0.9919975776544208}\n",
            "\t {'precision_score_macro': 0.957614982385087}\n",
            "\t {'matthews_correlation': 0.911379775244596}\n",
            "\t {'f1_score_micro': 0.9601497137824747}\n",
            "\t {'recall_score_macro': 0.9537728913483882}\n",
            "\t {'recall_score_weighted': 0.9601497137824747}\n",
            "\t {'f1_score_macro': 0.9556482522751053}\n",
            "\t {'weighted_accuracy': 0.9653909598111184}\n",
            "\t {'log_loss': 0.10863962362690686}\n",
            "\t {'AUC_macro': 0.9919975776544208}\n",
            "\t {'average_precision_score_weighted': 0.9922191569444292}\n",
            "\t {'f1_score_weighted': 0.9600657196838577}\n",
            "\t {'precision_score_micro': 0.9601497137824747}\n",
            "\t {'norm_macro_recall': 0.9075457826967763}\n",
            "\t {'average_precision_score_micro': 0.9928709144490298}\n",
            "\t {'average_precision_score_macro': 0.9905853267436875}\n",
            "\t {'accuracy_table': 'aml://artifactId/ExperimentRun/dcid.AutoML_4917704f-460b-4fba-85a9-34ef682367f4_1/accuracy_table'}\n",
            "\t {'confusion_matrix': 'aml://artifactId/ExperimentRun/dcid.AutoML_4917704f-460b-4fba-85a9-34ef682367f4_1/confusion_matrix'}\n",
            "Run ID AutoML_4917704f-460b-4fba-85a9-34ef682367f4_worker_1\n",
            "Run ID AutoML_4917704f-460b-4fba-85a9-34ef682367f4_worker_0\n",
            "Run ID AutoML_4917704f-460b-4fba-85a9-34ef682367f4_featurize\n",
            "Run ID AutoML_4917704f-460b-4fba-85a9-34ef682367f4_setup\n"
          ]
        }
      ],
      "source": [
        "for run in automl_run.get_children():\n",
        "    print('Run ID', run.id)\n",
        "    for metric in run.get_metrics():\n",
        "        print('\\t', run.get_metrics(metric))"
      ]
    },
    {
      "cell_type": "markdown",
      "metadata": {},
      "source": [
        "## Get the best run\n",
        "\n",
        "You can retrieve the best-performing run, and view its details like this:"
      ]
    },
    {
      "cell_type": "code",
      "execution_count": 10,
      "metadata": {},
      "outputs": [
        {
          "name": "stderr",
          "output_type": "stream",
          "text": [
            "WARNING:root:The version of the SDK does not match the version the model was trained on.\n",
            "WARNING:root:The consistency in the result may not be guaranteed.\n",
            "WARNING:root:Package:azureml-automl-core, training version:1.47.0, current version:1.44.0\n",
            "Package:azureml-automl-runtime, training version:1.47.0, current version:1.44.0\n",
            "Package:azureml-core, training version:1.47.0, current version:1.44.0\n",
            "Package:azureml-dataprep, training version:4.5.7, current version:4.2.2\n",
            "Package:azureml-dataprep-rslex, training version:2.11.4, current version:2.8.1\n",
            "Package:azureml-dataset-runtime, training version:1.47.0, current version:1.44.0\n",
            "Package:azureml-defaults, training version:1.47.0, current version:1.44.0\n",
            "Package:azureml-interpret, training version:1.47.0, current version:1.44.0\n",
            "Package:azureml-mlflow, training version:1.47.0, current version:1.44.0\n",
            "Package:azureml-pipeline-core, training version:1.47.0, current version:1.44.0\n",
            "Package:azureml-responsibleai, training version:1.47.0, current version:1.44.0\n",
            "Package:azureml-telemetry, training version:1.47.0, current version:1.44.0\n",
            "Package:azureml-train-automl-client, training version:1.47.0, current version:1.44.0\n",
            "Package:azureml-train-automl-runtime, training version:1.47.0, current version:1.44.0\n",
            "Package:azureml-train-core, training version:1.47.0, current version:1.44.0\n",
            "Package:azureml-train-restclients-hyperdrive, training version:1.47.0, current version:1.44.0\n",
            "Package:azureml-training-tabular, training version:1.47.0, current version:1.44.0\n",
            "WARNING:root:Please ensure the version of your local conda dependencies match the version on which your model was trained in order to properly retrieve your model.\n"
          ]
        },
        {
          "name": "stdout",
          "output_type": "stream",
          "text": [
            "Run(Experiment: mslearn-diabetes-automl-sdk,\n",
            "Id: AutoML_4917704f-460b-4fba-85a9-34ef682367f4_2,\n",
            "Type: azureml.scriptrun,\n",
            "Status: Completed)\n",
            "\n",
            "Best Model Definition:\n",
            "Pipeline(memory=None,\n",
            "         steps=[('datatransformer',\n",
            "                 DataTransformer(enable_dnn=False, enable_feature_sweeping=True, feature_sweeping_config={}, feature_sweeping_timeout=86400, featurization_config=None, force_text_dnn=False, is_cross_validation=False, is_onnx_compatible=False, observer=None, task='classification', working_dir='/mnt/batch/tasks/shared/LS_root/moun...\n",
            "                                                                             MaxAbsScaler(copy=True)),\n",
            "                                                                            ('lightgbmclassifier',\n",
            "                                                                             LightGBMClassifier(min_data_in_leaf=20, n_jobs=1, problem_info=ProblemInfo(gpu_training_param_dict={'processing_unit_type': 'cpu'}, label_encoded_column_indexes=None, use_distributed=False), random_state=None))],\n",
            "                                                                     verbose=False))],\n",
            "                                               flatten_transform=None,\n",
            "                                               weights=[0.6666666666666666,\n",
            "                                                        0.3333333333333333]))],\n",
            "         verbose=False)\n",
            "\n",
            "Best Run Transformations:\n",
            "datatransformer\n",
            "prefittedsoftvotingclassifier\n",
            "\n",
            "Best Run Metrics:\n",
            "average_precision_score_macro 0.9907038093756348\n",
            "AUC_micro 0.9929096135079392\n",
            "accuracy 0.9619110523998239\n",
            "recall_score_micro 0.9619110523998239\n",
            "precision_score_weighted 0.9618293144899906\n",
            "norm_macro_recall 0.9120603884391882\n",
            "balanced_accuracy 0.9560301942195941\n",
            "weighted_accuracy 0.9667446548563369\n",
            "matthews_correlation 0.9153304328646035\n",
            "f1_score_micro 0.9619110523998239\n",
            "average_precision_score_weighted 0.9923310428255883\n",
            "recall_score_weighted 0.9619110523998239\n",
            "precision_score_macro 0.9593061007516636\n",
            "log_loss 0.1053382144791426\n",
            "average_precision_score_micro 0.9930387904451217\n",
            "AUC_macro 0.9921701418400242\n",
            "recall_score_macro 0.9560301942195941\n",
            "precision_score_micro 0.9619110523998239\n",
            "f1_score_weighted 0.9618428958795621\n",
            "AUC_weighted 0.9921701418400241\n",
            "f1_score_macro 0.9576349715851422\n",
            "confusion_matrix aml://artifactId/ExperimentRun/dcid.AutoML_4917704f-460b-4fba-85a9-34ef682367f4_2/confusion_matrix\n",
            "accuracy_table aml://artifactId/ExperimentRun/dcid.AutoML_4917704f-460b-4fba-85a9-34ef682367f4_2/accuracy_table\n"
          ]
        }
      ],
      "source": [
        "best_run, fitted_model = automl_run.get_output()\n",
        "print(best_run)\n",
        "print('\\nBest Model Definition:')\n",
        "print(fitted_model)\n",
        "print('\\nBest Run Transformations:')\n",
        "for step in fitted_model.named_steps:\n",
        "    print(step)\n",
        "print('\\nBest Run Metrics:')\n",
        "best_run_metrics = best_run.get_metrics()\n",
        "for metric_name in best_run_metrics:\n",
        "    metric = best_run_metrics[metric_name]\n",
        "    print(metric_name, metric)"
      ]
    },
    {
      "cell_type": "markdown",
      "metadata": {},
      "source": [
        "Finally, having found the best performing model, you can register it."
      ]
    },
    {
      "cell_type": "code",
      "execution_count": 11,
      "metadata": {},
      "outputs": [
        {
          "name": "stdout",
          "output_type": "stream",
          "text": [
            "diabetes_model version: 12\n",
            "\t Training context : Auto ML\n",
            "\t AUC : 0.9921701418400241\n",
            "\t Accuracy : 0.9619110523998239\n",
            "\n",
            "\n",
            "diabetes_model version: 11\n",
            "\t Training context : Hyperdrive\n",
            "\t AUC : 0.9885804604667666\n",
            "\t Accuracy : 0.9457777777777778\n",
            "\n",
            "\n",
            "diabetes_model version: 10\n",
            "\t Training context : Inline Training\n",
            "\t AUC : 0.8788322802129458\n",
            "\t Accuracy : 0.891\n",
            "\n",
            "\n",
            "diabetes_model version: 9\n",
            "\t Training context : Inline Training\n",
            "\t AUC : 0.8803099656699337\n",
            "\t Accuracy : 0.8916666666666667\n",
            "\n",
            "\n",
            "diabetes_model version: 8\n",
            "\t Training context : Pipeline\n",
            "\t AUC : 0.8822777983739175\n",
            "\t Accuracy : 0.898\n",
            "\n",
            "\n",
            "diabetes_model version: 7\n",
            "\t Training context : Pipeline\n",
            "\t AUC : 0.8849058707256496\n",
            "\t Accuracy : 0.8991111111111111\n",
            "\n",
            "\n",
            "diabetes_model version: 6\n",
            "\t Training context : Pipeline\n",
            "\t AUC : 0.8834359994372682\n",
            "\t Accuracy : 0.8988888888888888\n",
            "\n",
            "\n",
            "diabetes_model version: 5\n",
            "\t Training context : Compute cluster\n",
            "\t AUC : 0.8814452031098893\n",
            "\t Accuracy : 0.8971111111111111\n",
            "\n",
            "\n",
            "diabetes_model version: 4\n",
            "\t Training context : File dataset\n",
            "\t AUC : 0.8468514889078735\n",
            "\t Accuracy : 0.7788888888888889\n",
            "\n",
            "\n",
            "diabetes_model version: 3\n",
            "\t Training context : Tabular dataset\n",
            "\t AUC : 0.8568650620553335\n",
            "\t Accuracy : 0.7893333333333333\n",
            "\n",
            "\n",
            "diabetes_model version: 2\n",
            "\t Training context : Parameterized script\n",
            "\t AUC : 0.8483198169063138\n",
            "\t Accuracy : 0.774\n",
            "\n",
            "\n",
            "diabetes_model version: 1\n",
            "\t Training context : Script\n",
            "\t AUC : 0.8484929598487486\n",
            "\t Accuracy : 0.774\n",
            "\n",
            "\n"
          ]
        }
      ],
      "source": [
        "from azureml.core import Model\n",
        "\n",
        "# Register model\n",
        "best_run.register_model(model_path='outputs/model.pkl', model_name='diabetes_model',\n",
        "                        tags={'Training context':'Auto ML'},\n",
        "                        properties={'AUC': best_run_metrics['AUC_weighted'], 'Accuracy': best_run_metrics['accuracy']})\n",
        "\n",
        "# List registered models\n",
        "for model in Model.list(ws):\n",
        "    print(model.name, 'version:', model.version)\n",
        "    for tag_name in model.tags:\n",
        "        tag = model.tags[tag_name]\n",
        "        print ('\\t',tag_name, ':', tag)\n",
        "    for prop_name in model.properties:\n",
        "        prop = model.properties[prop_name]\n",
        "        print ('\\t',prop_name, ':', prop)\n",
        "    print('\\n')"
      ]
    },
    {
      "cell_type": "markdown",
      "metadata": {},
      "source": [
        "> **More Information**: For more information Automated Machine Learning, see the [Azure ML documentation](https://docs.microsoft.com/azure/machine-learning/how-to-configure-auto-train)."
      ]
    }
  ],
  "metadata": {
    "kernel_info": {
      "name": "python38-azureml"
    },
    "kernelspec": {
      "display_name": "Python 3.8 - AzureML",
      "language": "python",
      "name": "python38-azureml"
    },
    "language_info": {
      "codemirror_mode": {
        "name": "ipython",
        "version": 3
      },
      "file_extension": ".py",
      "mimetype": "text/x-python",
      "name": "python",
      "nbconvert_exporter": "python",
      "pygments_lexer": "ipython3",
      "version": "3.8.5"
    },
    "nteract": {
      "version": "nteract-front-end@1.0.0"
    }
  },
  "nbformat": 4,
  "nbformat_minor": 0
}
