{
  "cells": [
    {
      "cell_type": "markdown",
      "metadata": {},
      "source": [
        "# Create a real-time inferencing service\n",
        "\n",
        "After training a predictive model, you can deploy it as a real-time service that clients can use to get predictions from new data."
      ]
    },
    {
      "cell_type": "markdown",
      "metadata": {},
      "source": [
        "## Connect to your workspace\n",
        "\n",
        "To get started, connect to your workspace.\n",
        "\n",
        "> **Note**: If you haven't already established an authenticated session with your Azure subscription, you'll be prompted to authenticate by clicking a link, entering an authentication code, and signing into Azure."
      ]
    },
    {
      "cell_type": "code",
      "execution_count": 1,
      "metadata": {
        "gather": {
          "logged": 1649367571437
        }
      },
      "outputs": [
        {
          "name": "stdout",
          "output_type": "stream",
          "text": [
            "Ready to use Azure ML 1.44.0 to work with mllearningworkspace\n"
          ]
        }
      ],
      "source": [
        "import azureml.core\n",
        "from azureml.core import Workspace\n",
        "\n",
        "# Load the workspace from the saved config file\n",
        "ws = Workspace.from_config()\n",
        "print('Ready to use Azure ML {} to work with {}'.format(azureml.core.VERSION, ws.name))"
      ]
    },
    {
      "cell_type": "markdown",
      "metadata": {},
      "source": [
        "## Train and register a model\n",
        "\n",
        "Now let's train and register a model."
      ]
    },
    {
      "cell_type": "code",
      "execution_count": 2,
      "metadata": {
        "gather": {
          "logged": 1649367606601
        }
      },
      "outputs": [
        {
          "name": "stdout",
          "output_type": "stream",
          "text": [
            "Starting experiment: mslearn-train-diabetes\n",
            "Loading Data...\n",
            "Training a decision tree model\n",
            "Accuracy: 0.8916666666666667\n",
            "AUC: 0.8803099656699337\n"
          ]
        },
        {
          "name": "stderr",
          "output_type": "stream",
          "text": [
            "/tmp/ipykernel_43847/2429120433.py:34: DeprecationWarning: `np.float` is a deprecated alias for the builtin `float`. To silence this warning, use `float` by itself. Doing this will not modify any behavior and is safe. If you specifically wanted the numpy scalar type, use `np.float64` here.\n",
            "Deprecated in NumPy 1.20; for more details and guidance: https://numpy.org/devdocs/release/1.20.0-notes.html#deprecations\n",
            "  run.log('Accuracy', np.float(acc))\n",
            "/tmp/ipykernel_43847/2429120433.py:40: DeprecationWarning: `np.float` is a deprecated alias for the builtin `float`. To silence this warning, use `float` by itself. Doing this will not modify any behavior and is safe. If you specifically wanted the numpy scalar type, use `np.float64` here.\n",
            "Deprecated in NumPy 1.20; for more details and guidance: https://numpy.org/devdocs/release/1.20.0-notes.html#deprecations\n",
            "  run.log('AUC', np.float(auc))\n"
          ]
        },
        {
          "name": "stdout",
          "output_type": "stream",
          "text": [
            "Model trained and registered.\n"
          ]
        }
      ],
      "source": [
        "from azureml.core import Experiment\n",
        "from azureml.core import Model\n",
        "import pandas as pd\n",
        "import numpy as np\n",
        "import joblib\n",
        "from sklearn.model_selection import train_test_split\n",
        "from sklearn.tree import DecisionTreeClassifier\n",
        "from sklearn.metrics import roc_auc_score\n",
        "from sklearn.metrics import roc_curve\n",
        "\n",
        "# Create an Azure ML experiment in your workspace\n",
        "experiment = Experiment(workspace=ws, name=\"mslearn-train-diabetes\")\n",
        "run = experiment.start_logging()\n",
        "print(\"Starting experiment:\", experiment.name)\n",
        "\n",
        "# load the diabetes dataset\n",
        "print(\"Loading Data...\")\n",
        "diabetes = pd.read_csv('data/diabetes.csv')\n",
        "\n",
        "# Separate features and labels\n",
        "X, y = diabetes[['Pregnancies','PlasmaGlucose','DiastolicBloodPressure','TricepsThickness','SerumInsulin','BMI','DiabetesPedigree','Age']].values, diabetes['Diabetic'].values\n",
        "\n",
        "# Split data into training set and test set\n",
        "X_train, X_test, y_train, y_test = train_test_split(X, y, test_size=0.30, random_state=0)\n",
        "\n",
        "# Train a decision tree model\n",
        "print('Training a decision tree model')\n",
        "model = DecisionTreeClassifier().fit(X_train, y_train)\n",
        "\n",
        "# calculate accuracy\n",
        "y_hat = model.predict(X_test)\n",
        "acc = np.average(y_hat == y_test)\n",
        "print('Accuracy:', acc)\n",
        "run.log('Accuracy', np.float(acc))\n",
        "\n",
        "# calculate AUC\n",
        "y_scores = model.predict_proba(X_test)\n",
        "auc = roc_auc_score(y_test,y_scores[:,1])\n",
        "print('AUC: ' + str(auc))\n",
        "run.log('AUC', np.float(auc))\n",
        "\n",
        "# Save the trained model\n",
        "model_file = 'diabetes_model.pkl'\n",
        "joblib.dump(value=model, filename=model_file)\n",
        "run.upload_file(name = 'outputs/' + model_file, path_or_stream = './' + model_file)\n",
        "\n",
        "# Complete the run\n",
        "run.complete()\n",
        "\n",
        "# Register the model\n",
        "run.register_model(model_path='outputs/diabetes_model.pkl', model_name='diabetes_model',\n",
        "                   tags={'Training context':'Inline Training'},\n",
        "                   properties={'AUC': run.get_metrics()['AUC'], 'Accuracy': run.get_metrics()['Accuracy']})\n",
        "\n",
        "print('Model trained and registered.')"
      ]
    },
    {
      "cell_type": "markdown",
      "metadata": {},
      "source": [
        "## Deploy the model as a web service\n",
        "\n",
        "You have trained and registered a machine learning model that classifies patients based on the likelihood of them having diabetes. This model could be used in a production environment such as a doctor's surgery where only patients deemed to be at risk need to be subjected to a clinical test for diabetes. To support this scenario, you will deploy the model as a web service.\n",
        "\n",
        "First, let's determine what models you have registered in the workspace."
      ]
    },
    {
      "cell_type": "code",
      "execution_count": 3,
      "metadata": {},
      "outputs": [
        {
          "name": "stdout",
          "output_type": "stream",
          "text": [
            "diabetes_model version: 9\n",
            "\t Training context : Inline Training\n",
            "\t AUC : 0.8803099656699337\n",
            "\t Accuracy : 0.8916666666666667\n",
            "\n",
            "\n",
            "diabetes_model version: 8\n",
            "\t Training context : Pipeline\n",
            "\t AUC : 0.8822777983739175\n",
            "\t Accuracy : 0.898\n",
            "\n",
            "\n",
            "diabetes_model version: 7\n",
            "\t Training context : Pipeline\n",
            "\t AUC : 0.8849058707256496\n",
            "\t Accuracy : 0.8991111111111111\n",
            "\n",
            "\n",
            "diabetes_model version: 6\n",
            "\t Training context : Pipeline\n",
            "\t AUC : 0.8834359994372682\n",
            "\t Accuracy : 0.8988888888888888\n",
            "\n",
            "\n",
            "diabetes_model version: 5\n",
            "\t Training context : Compute cluster\n",
            "\t AUC : 0.8814452031098893\n",
            "\t Accuracy : 0.8971111111111111\n",
            "\n",
            "\n",
            "diabetes_model version: 4\n",
            "\t Training context : File dataset\n",
            "\t AUC : 0.8468514889078735\n",
            "\t Accuracy : 0.7788888888888889\n",
            "\n",
            "\n",
            "diabetes_model version: 3\n",
            "\t Training context : Tabular dataset\n",
            "\t AUC : 0.8568650620553335\n",
            "\t Accuracy : 0.7893333333333333\n",
            "\n",
            "\n",
            "diabetes_model version: 2\n",
            "\t Training context : Parameterized script\n",
            "\t AUC : 0.8483198169063138\n",
            "\t Accuracy : 0.774\n",
            "\n",
            "\n",
            "diabetes_model version: 1\n",
            "\t Training context : Script\n",
            "\t AUC : 0.8484929598487486\n",
            "\t Accuracy : 0.774\n",
            "\n",
            "\n"
          ]
        }
      ],
      "source": [
        "from azureml.core import Model\n",
        "\n",
        "for model in Model.list(ws):\n",
        "    print(model.name, 'version:', model.version)\n",
        "    for tag_name in model.tags:\n",
        "        tag = model.tags[tag_name]\n",
        "        print ('\\t',tag_name, ':', tag)\n",
        "    for prop_name in model.properties:\n",
        "        prop = model.properties[prop_name]\n",
        "        print ('\\t',prop_name, ':', prop)\n",
        "    print('\\n')"
      ]
    },
    {
      "cell_type": "markdown",
      "metadata": {},
      "source": [
        "Right, now let's get the model that we want to deploy. By default, if we specify a model name, the latest version will be returned."
      ]
    },
    {
      "cell_type": "code",
      "execution_count": 4,
      "metadata": {},
      "outputs": [
        {
          "name": "stdout",
          "output_type": "stream",
          "text": [
            "diabetes_model version 9\n"
          ]
        }
      ],
      "source": [
        "model = ws.models['diabetes_model']\n",
        "print(model.name, 'version', model.version)"
      ]
    },
    {
      "cell_type": "markdown",
      "metadata": {},
      "source": [
        "We're going to create a web service to host this model, and this will require some code and configuration files; so let's create a folder for those."
      ]
    },
    {
      "cell_type": "code",
      "execution_count": 5,
      "metadata": {},
      "outputs": [
        {
          "name": "stdout",
          "output_type": "stream",
          "text": [
            "./diabetes_service folder created.\n"
          ]
        }
      ],
      "source": [
        "import os\n",
        "\n",
        "# Create a folder for the deployment files\n",
        "deployment_folder = './diabetes_service'\n",
        "os.makedirs(deployment_folder, exist_ok=True)\n",
        "print(deployment_folder, 'folder created.')\n",
        "\n",
        "# Set path for scoring script\n",
        "script_file = 'score_diabetes.py'\n",
        "script_path = os.path.join(deployment_folder,script_file)"
      ]
    },
    {
      "cell_type": "markdown",
      "metadata": {},
      "source": [
        "The web service where we deploy the model will need some Python code to load the input data, get the model from the workspace, and generate and return predictions. We'll save this code in an *entry script* (often called a *scoring script*) that will be deployed to the web service.\n",
        "\n",
        "The script consists of two functions:\n",
        "\n",
        "- **init**: This function is called when the service is initialized, and is generally used to load the model. Note that the scoring script uses the **AZUREML_MODEL_DIR** environment variable to determine the folder where the model is stored.\n",
        "- **run**: This function is called each time a client application submits new data, and is generally used to inference predictions from the model."
      ]
    },
    {
      "cell_type": "code",
      "execution_count": 6,
      "metadata": {},
      "outputs": [
        {
          "name": "stdout",
          "output_type": "stream",
          "text": [
            "Writing ./diabetes_service/score_diabetes.py\n"
          ]
        }
      ],
      "source": [
        "%%writefile $script_path\n",
        "import json\n",
        "import joblib\n",
        "import numpy as np\n",
        "import os\n",
        "\n",
        "# Called when the service is loaded\n",
        "def init():\n",
        "    global model\n",
        "    # Get the path to the deployed model file and load it\n",
        "    model_path = os.path.join(os.getenv('AZUREML_MODEL_DIR'), 'diabetes_model.pkl')\n",
        "    model = joblib.load(model_path)\n",
        "\n",
        "# Called when a request is received\n",
        "def run(raw_data):\n",
        "    # Get the input data as a numpy array\n",
        "    data = np.array(json.loads(raw_data)['data'])\n",
        "    # Get a prediction from the model\n",
        "    predictions = model.predict(data)\n",
        "    # Get the corresponding classname for each prediction (0 or 1)\n",
        "    classnames = ['not-diabetic', 'diabetic']\n",
        "    predicted_classes = []\n",
        "    for prediction in predictions:\n",
        "        predicted_classes.append(classnames[prediction])\n",
        "    # Return the predictions as JSON\n",
        "    return json.dumps(predicted_classes)"
      ]
    },
    {
      "cell_type": "markdown",
      "metadata": {},
      "source": [
        "The web service will be hosted in a container, and the container will need to install any required Python dependencies when it gets initialized. In this case, our scoring code requires **scikit-learn** and some Azure Machine Learning specific packages that are used by the scoring web service, so we'll create an environment that included these. Then we'll add that environment to an *inference configuration* along with the scoring script, and define a *deployment configuration* for the container in which the environment and script will be hosted.\n",
        "\n",
        "We can then deploy the model as a service based on these configurations.\n",
        "\n",
        "> **More Information**: For more details about model deployment, and options for target execution environments, see the [documentation](https://docs.microsoft.com/azure/machine-learning/how-to-deploy-and-where).\n",
        "\n",
        "Deployment will take some time as it first runs a process to create a container image, and then runs a process to create a web service based on the image. When deployment has completed successfully, you'll see a status of **Healthy**."
      ]
    },
    {
      "cell_type": "code",
      "execution_count": 18,
      "metadata": {},
      "outputs": [
        {
          "name": "stdout",
          "output_type": "stream",
          "text": [
            "Deploying model...\n",
            "Tips: You can try get_logs(): https://aka.ms/debugimage#dockerlog or local deployment: https://aka.ms/debugimage#debug-locally to debug if deployment takes longer than 10 minutes.\n",
            "Running\n",
            "2022-12-13 15:44:44+00:00 Creating Container Registry if not exists.\n",
            "2022-12-13 15:44:44+00:00 Registering the environment.\n",
            "2022-12-13 15:44:45+00:00 Use the existing image.\n",
            "2022-12-13 15:44:45+00:00 Generating deployment configuration.\n",
            "2022-12-13 15:44:45+00:00 Submitting deployment to compute.\n",
            "Failed\n"
          ]
        },
        {
          "name": "stderr",
          "output_type": "stream",
          "text": [
            "Service deployment polling reached non-successful terminal state, current service state: Transitioning\n",
            "Operation ID: a02a8131-5253-4ce4-ad46-816b46645a97\n",
            "More information can be found using '.get_logs()'\n",
            "Error:\n",
            "{\n",
            "  \"code\": \"AuthorizationFailed\",\n",
            "  \"statusCode\": 403,\n",
            "  \"message\": \"ACI Service request failed. Reason: The client '530a969d-1f1a-4d2a-9866-6f18d23e261b' with object id '530a969d-1f1a-4d2a-9866-6f18d23e261b' does not have authorization to perform action 'Microsoft.ContainerInstance/containerGroups/write' over scope '/subscriptions/376621af-6a06-4df6-b902-d25c6239f015/resourceGroups/learning/providers/Microsoft.ContainerInstance/containerGroups/diabetes-service-MHaHjIEyoU6Jz-j4BAxzcA' or the scope is invalid. If access was recently granted, please refresh your credentials..\"\n",
            "}\n",
            "\n"
          ]
        },
        {
          "ename": "WebserviceException",
          "evalue": "WebserviceException:\n\tMessage: Service deployment polling reached non-successful terminal state, current service state: Transitioning\nOperation ID: a02a8131-5253-4ce4-ad46-816b46645a97\nMore information can be found using '.get_logs()'\nError:\n{\n  \"code\": \"AuthorizationFailed\",\n  \"statusCode\": 403,\n  \"message\": \"ACI Service request failed. Reason: The client '530a969d-1f1a-4d2a-9866-6f18d23e261b' with object id '530a969d-1f1a-4d2a-9866-6f18d23e261b' does not have authorization to perform action 'Microsoft.ContainerInstance/containerGroups/write' over scope '/subscriptions/376621af-6a06-4df6-b902-d25c6239f015/resourceGroups/learning/providers/Microsoft.ContainerInstance/containerGroups/diabetes-service-MHaHjIEyoU6Jz-j4BAxzcA' or the scope is invalid. If access was recently granted, please refresh your credentials..\"\n}\n\tInnerException None\n\tErrorResponse \n{\n    \"error\": {\n        \"message\": \"Service deployment polling reached non-successful terminal state, current service state: Transitioning\\nOperation ID: a02a8131-5253-4ce4-ad46-816b46645a97\\nMore information can be found using '.get_logs()'\\nError:\\n{\\n  \\\"code\\\": \\\"AuthorizationFailed\\\",\\n  \\\"statusCode\\\": 403,\\n  \\\"message\\\": \\\"ACI Service request failed. Reason: The client '530a969d-1f1a-4d2a-9866-6f18d23e261b' with object id '530a969d-1f1a-4d2a-9866-6f18d23e261b' does not have authorization to perform action 'Microsoft.ContainerInstance/containerGroups/write' over scope '/subscriptions/376621af-6a06-4df6-b902-d25c6239f015/resourceGroups/learning/providers/Microsoft.ContainerInstance/containerGroups/diabetes-service-MHaHjIEyoU6Jz-j4BAxzcA' or the scope is invalid. If access was recently granted, please refresh your credentials..\\\"\\n}\"\n    }\n}",
          "output_type": "error",
          "traceback": [
            "\u001b[0;31m---------------------------------------------------------------------------\u001b[0m",
            "\u001b[0;31mWebserviceException\u001b[0m                       Traceback (most recent call last)",
            "\u001b[1;32m/home/azureuser/cloudfiles/code/mslearn-dp100/09 - Create a Real-time Inferencing Service.ipynb Cell 15\u001b[0m in \u001b[0;36m<cell line: 20>\u001b[0;34m()\u001b[0m\n\u001b[1;32m     <a href='vscode-notebook-cell://amlext%2B2f737562736372697074696f6e732f33373636323161662d366130362d346466362d623930322d6432356336323339663031352f7265736f7572636547726f7570732f6c6561726e696e672f70726f7669646572732f4d6963726f736f66742e4d616368696e654c6561726e696e6753657276696365732f776f726b7370616365732f6d6c6c6561726e696e67776f726b73706163652f636f6d70757465732f6361726c6f62696e646131/home/azureuser/cloudfiles/code/mslearn-dp100/09%20-%20Create%20a%20Real-time%20Inferencing%20Service.ipynb#X20sdnNjb2RlLXJlbW90ZQ%3D%3D?line=17'>18</a>\u001b[0m service_name \u001b[39m=\u001b[39m \u001b[39m\"\u001b[39m\u001b[39mdiabetes-service\u001b[39m\u001b[39m\"\u001b[39m\n\u001b[1;32m     <a href='vscode-notebook-cell://amlext%2B2f737562736372697074696f6e732f33373636323161662d366130362d346466362d623930322d6432356336323339663031352f7265736f7572636547726f7570732f6c6561726e696e672f70726f7669646572732f4d6963726f736f66742e4d616368696e654c6561726e696e6753657276696365732f776f726b7370616365732f6d6c6c6561726e696e67776f726b73706163652f636f6d70757465732f6361726c6f62696e646131/home/azureuser/cloudfiles/code/mslearn-dp100/09%20-%20Create%20a%20Real-time%20Inferencing%20Service.ipynb#X20sdnNjb2RlLXJlbW90ZQ%3D%3D?line=18'>19</a>\u001b[0m service \u001b[39m=\u001b[39m Model\u001b[39m.\u001b[39mdeploy(ws, service_name, [model], inference_config, deployment_config, overwrite\u001b[39m=\u001b[39m\u001b[39mTrue\u001b[39;00m)\n\u001b[0;32m---> <a href='vscode-notebook-cell://amlext%2B2f737562736372697074696f6e732f33373636323161662d366130362d346466362d623930322d6432356336323339663031352f7265736f7572636547726f7570732f6c6561726e696e672f70726f7669646572732f4d6963726f736f66742e4d616368696e654c6561726e696e6753657276696365732f776f726b7370616365732f6d6c6c6561726e696e67776f726b73706163652f636f6d70757465732f6361726c6f62696e646131/home/azureuser/cloudfiles/code/mslearn-dp100/09%20-%20Create%20a%20Real-time%20Inferencing%20Service.ipynb#X20sdnNjb2RlLXJlbW90ZQ%3D%3D?line=19'>20</a>\u001b[0m service\u001b[39m.\u001b[39;49mwait_for_deployment(\u001b[39mTrue\u001b[39;49;00m)\n\u001b[1;32m     <a href='vscode-notebook-cell://amlext%2B2f737562736372697074696f6e732f33373636323161662d366130362d346466362d623930322d6432356336323339663031352f7265736f7572636547726f7570732f6c6561726e696e672f70726f7669646572732f4d6963726f736f66742e4d616368696e654c6561726e696e6753657276696365732f776f726b7370616365732f6d6c6c6561726e696e67776f726b73706163652f636f6d70757465732f6361726c6f62696e646131/home/azureuser/cloudfiles/code/mslearn-dp100/09%20-%20Create%20a%20Real-time%20Inferencing%20Service.ipynb#X20sdnNjb2RlLXJlbW90ZQ%3D%3D?line=20'>21</a>\u001b[0m \u001b[39mprint\u001b[39m(service\u001b[39m.\u001b[39mstate)\n",
            "File \u001b[0;32m/anaconda/envs/azureml_py38/lib/python3.8/site-packages/azureml/core/webservice/webservice.py:918\u001b[0m, in \u001b[0;36mWebservice.wait_for_deployment\u001b[0;34m(self, show_output, timeout_sec)\u001b[0m\n\u001b[1;32m    915\u001b[0m         \u001b[39mif\u001b[39;00m \u001b[39mnot\u001b[39;00m logs_response:\n\u001b[1;32m    916\u001b[0m             logs_response \u001b[39m=\u001b[39m \u001b[39m'\u001b[39m\u001b[39mCurrent sub-operation type not known, more logs unavailable.\u001b[39m\u001b[39m'\u001b[39m\n\u001b[0;32m--> 918\u001b[0m         \u001b[39mraise\u001b[39;00m WebserviceException(\u001b[39m'\u001b[39m\u001b[39mService deployment polling reached non-successful terminal state, current \u001b[39m\u001b[39m'\u001b[39m\n\u001b[1;32m    919\u001b[0m                                   \u001b[39m'\u001b[39m\u001b[39mservice state: \u001b[39m\u001b[39m{}\u001b[39;00m\u001b[39m\\n\u001b[39;00m\u001b[39m'\u001b[39m\n\u001b[1;32m    920\u001b[0m                                   \u001b[39m'\u001b[39m\u001b[39mOperation ID: \u001b[39m\u001b[39m{}\u001b[39;00m\u001b[39m\\n\u001b[39;00m\u001b[39m'\u001b[39m\n\u001b[1;32m    921\u001b[0m                                   \u001b[39m'\u001b[39m\u001b[39m{}\u001b[39;00m\u001b[39m\\n\u001b[39;00m\u001b[39m'\u001b[39m\n\u001b[1;32m    922\u001b[0m                                   \u001b[39m'\u001b[39m\u001b[39mError:\u001b[39m\u001b[39m\\n\u001b[39;00m\u001b[39m'\u001b[39m\n\u001b[1;32m    923\u001b[0m                                   \u001b[39m'\u001b[39m\u001b[39m{}\u001b[39;00m\u001b[39m'\u001b[39m\u001b[39m.\u001b[39mformat(\u001b[39mself\u001b[39m\u001b[39m.\u001b[39mstate, \u001b[39mself\u001b[39m\u001b[39m.\u001b[39m_operation_endpoint\u001b[39m.\u001b[39msplit(\u001b[39m'\u001b[39m\u001b[39m/\u001b[39m\u001b[39m'\u001b[39m)[\u001b[39m-\u001b[39m\u001b[39m1\u001b[39m],\n\u001b[1;32m    924\u001b[0m                                               logs_response, format_error_response), logger\u001b[39m=\u001b[39mmodule_logger)\n\u001b[1;32m    925\u001b[0m     \u001b[39mprint\u001b[39m(\u001b[39m'\u001b[39m\u001b[39m{}\u001b[39;00m\u001b[39m service creation operation finished, operation \u001b[39m\u001b[39m\"\u001b[39m\u001b[39m{}\u001b[39;00m\u001b[39m\"\u001b[39m\u001b[39m'\u001b[39m\u001b[39m.\u001b[39mformat(\u001b[39mself\u001b[39m\u001b[39m.\u001b[39m_webservice_type,\n\u001b[1;32m    926\u001b[0m                                                                           operation_state))\n\u001b[1;32m    927\u001b[0m \u001b[39mexcept\u001b[39;00m WebserviceException \u001b[39mas\u001b[39;00m e:\n",
            "\u001b[0;31mWebserviceException\u001b[0m: WebserviceException:\n\tMessage: Service deployment polling reached non-successful terminal state, current service state: Transitioning\nOperation ID: a02a8131-5253-4ce4-ad46-816b46645a97\nMore information can be found using '.get_logs()'\nError:\n{\n  \"code\": \"AuthorizationFailed\",\n  \"statusCode\": 403,\n  \"message\": \"ACI Service request failed. Reason: The client '530a969d-1f1a-4d2a-9866-6f18d23e261b' with object id '530a969d-1f1a-4d2a-9866-6f18d23e261b' does not have authorization to perform action 'Microsoft.ContainerInstance/containerGroups/write' over scope '/subscriptions/376621af-6a06-4df6-b902-d25c6239f015/resourceGroups/learning/providers/Microsoft.ContainerInstance/containerGroups/diabetes-service-MHaHjIEyoU6Jz-j4BAxzcA' or the scope is invalid. If access was recently granted, please refresh your credentials..\"\n}\n\tInnerException None\n\tErrorResponse \n{\n    \"error\": {\n        \"message\": \"Service deployment polling reached non-successful terminal state, current service state: Transitioning\\nOperation ID: a02a8131-5253-4ce4-ad46-816b46645a97\\nMore information can be found using '.get_logs()'\\nError:\\n{\\n  \\\"code\\\": \\\"AuthorizationFailed\\\",\\n  \\\"statusCode\\\": 403,\\n  \\\"message\\\": \\\"ACI Service request failed. Reason: The client '530a969d-1f1a-4d2a-9866-6f18d23e261b' with object id '530a969d-1f1a-4d2a-9866-6f18d23e261b' does not have authorization to perform action 'Microsoft.ContainerInstance/containerGroups/write' over scope '/subscriptions/376621af-6a06-4df6-b902-d25c6239f015/resourceGroups/learning/providers/Microsoft.ContainerInstance/containerGroups/diabetes-service-MHaHjIEyoU6Jz-j4BAxzcA' or the scope is invalid. If access was recently granted, please refresh your credentials..\\\"\\n}\"\n    }\n}"
          ]
        }
      ],
      "source": [
        "from azureml.core import Environment\n",
        "from azureml.core.model import InferenceConfig\n",
        "from azureml.core.webservice import AciWebservice\n",
        "\n",
        "# Configure the scoring environment\n",
        "service_env = Environment.get(workspace=ws, name=\"AzureML-sklearn-0.24.1-ubuntu18.04-py37-cpu-inference\")\n",
        "service_env.inferencing_stack_version=\"latest\"\n",
        "\n",
        "inference_config = InferenceConfig(source_directory=deployment_folder,\n",
        "                                   entry_script=script_file,\n",
        "                                   environment=service_env)\n",
        "\n",
        "# Configure the web service container\n",
        "deployment_config = AciWebservice.deploy_configuration(cpu_cores=1, memory_gb=1)\n",
        "\n",
        "# Deploy the model as a service\n",
        "print('Deploying model...')\n",
        "service_name = \"diabetes-service\"\n",
        "service = Model.deploy(ws, service_name, [model], inference_config, deployment_config, overwrite=True)\n",
        "service.wait_for_deployment(True)\n",
        "print(service.state)"
      ]
    },
    {
      "cell_type": "markdown",
      "metadata": {},
      "source": [
        "Hopefully, the deployment has been successful and you can see a status of **Healthy**. If not, you can use the following code to get the service logs to help you troubleshoot."
      ]
    },
    {
      "cell_type": "code",
      "execution_count": 19,
      "metadata": {
        "scrolled": true
      },
      "outputs": [
        {
          "name": "stderr",
          "output_type": "stream",
          "text": [
            "Received bad response from Model Management Service:\n",
            "Response Code: 403\n",
            "Headers: {'Date': 'Tue, 13 Dec 2022 15:45:38 GMT', 'Content-Type': 'application/json', 'Transfer-Encoding': 'chunked', 'Connection': 'keep-alive', 'Vary': 'Accept-Encoding', 'x-ms-client-request-id': 'b9c6a699-e33f-4868-952e-bd296abd9a1f', 'x-ms-client-session-id': 'a7eaa47e-e7f4-4ee5-944f-582da1996233', 'api-supported-versions': '1.0, 2018-03-01-preview, 2018-11-19', 'Strict-Transport-Security': 'max-age=15724800; includeSubDomains; preload', 'X-Content-Type-Options': 'nosniff', 'x-aml-cluster': 'vienna-westeurope-02', 'x-request-time': '0.292', 'Content-Encoding': 'gzip'}\n",
            "Content: b'{\"code\":\"Forbidden\",\"statusCode\":403,\"message\":\"Forbidden\",\"details\":[{\"code\":\"AuthorizationFailed\",\"message\":\"The client \\'530a969d-1f1a-4d2a-9866-6f18d23e261b\\' with object id \\'530a969d-1f1a-4d2a-9866-6f18d23e261b\\' does not have authorization to perform action \\'Microsoft.ContainerInstance/containerGroups/containers/logs/read\\' over scope \\'/subscriptions/376621af-6a06-4df6-b902-d25c6239f015/resourceGroups/learning/providers/Microsoft.ContainerInstance/containerGroups/diabetes-service-MHaHjIEyoU6Jz-j4BAxzcA/containers/diabetes-service\\' or the scope is invalid. If access was recently granted, please refresh your credentials.\"}],\"correlation\":{\"RequestId\":\"b9c6a699-e33f-4868-952e-bd296abd9a1f\"}}'\n",
            "\n"
          ]
        },
        {
          "ename": "WebserviceException",
          "evalue": "WebserviceException:\n\tMessage: Received bad response from Model Management Service:\nResponse Code: 403\nHeaders: {'Date': 'Tue, 13 Dec 2022 15:45:38 GMT', 'Content-Type': 'application/json', 'Transfer-Encoding': 'chunked', 'Connection': 'keep-alive', 'Vary': 'Accept-Encoding', 'x-ms-client-request-id': 'b9c6a699-e33f-4868-952e-bd296abd9a1f', 'x-ms-client-session-id': 'a7eaa47e-e7f4-4ee5-944f-582da1996233', 'api-supported-versions': '1.0, 2018-03-01-preview, 2018-11-19', 'Strict-Transport-Security': 'max-age=15724800; includeSubDomains; preload', 'X-Content-Type-Options': 'nosniff', 'x-aml-cluster': 'vienna-westeurope-02', 'x-request-time': '0.292', 'Content-Encoding': 'gzip'}\nContent: b'{\"code\":\"Forbidden\",\"statusCode\":403,\"message\":\"Forbidden\",\"details\":[{\"code\":\"AuthorizationFailed\",\"message\":\"The client \\'530a969d-1f1a-4d2a-9866-6f18d23e261b\\' with object id \\'530a969d-1f1a-4d2a-9866-6f18d23e261b\\' does not have authorization to perform action \\'Microsoft.ContainerInstance/containerGroups/containers/logs/read\\' over scope \\'/subscriptions/376621af-6a06-4df6-b902-d25c6239f015/resourceGroups/learning/providers/Microsoft.ContainerInstance/containerGroups/diabetes-service-MHaHjIEyoU6Jz-j4BAxzcA/containers/diabetes-service\\' or the scope is invalid. If access was recently granted, please refresh your credentials.\"}],\"correlation\":{\"RequestId\":\"b9c6a699-e33f-4868-952e-bd296abd9a1f\"}}'\n\tInnerException None\n\tErrorResponse \n{\n    \"error\": {\n        \"message\": \"Received bad response from Model Management Service:\\nResponse Code: 403\\nHeaders: {'Date': 'Tue, 13 Dec 2022 15:45:38 GMT', 'Content-Type': 'application/json', 'Transfer-Encoding': 'chunked', 'Connection': 'keep-alive', 'Vary': 'Accept-Encoding', 'x-ms-client-request-id': 'b9c6a699-e33f-4868-952e-bd296abd9a1f', 'x-ms-client-session-id': 'a7eaa47e-e7f4-4ee5-944f-582da1996233', 'api-supported-versions': '1.0, 2018-03-01-preview, 2018-11-19', 'Strict-Transport-Security': 'max-age=15724800; includeSubDomains; preload', 'X-Content-Type-Options': 'nosniff', 'x-aml-cluster': 'vienna-westeurope-02', 'x-request-time': '0.292', 'Content-Encoding': 'gzip'}\\nContent: b'{\\\"code\\\":\\\"Forbidden\\\",\\\"statusCode\\\":403,\\\"message\\\":\\\"Forbidden\\\",\\\"details\\\":[{\\\"code\\\":\\\"AuthorizationFailed\\\",\\\"message\\\":\\\"The client \\\\'530a969d-1f1a-4d2a-9866-6f18d23e261b\\\\' with object id \\\\'530a969d-1f1a-4d2a-9866-6f18d23e261b\\\\' does not have authorization to perform action \\\\'Microsoft.ContainerInstance/containerGroups/containers/logs/read\\\\' over scope \\\\'/subscriptions/376621af-6a06-4df6-b902-d25c6239f015/resourceGroups/learning/providers/Microsoft.ContainerInstance/containerGroups/diabetes-service-MHaHjIEyoU6Jz-j4BAxzcA/containers/diabetes-service\\\\' or the scope is invalid. If access was recently granted, please refresh your credentials.\\\"}],\\\"correlation\\\":{\\\"RequestId\\\":\\\"b9c6a699-e33f-4868-952e-bd296abd9a1f\\\"}}'\"\n    }\n}",
          "output_type": "error",
          "traceback": [
            "\u001b[0;31m---------------------------------------------------------------------------\u001b[0m",
            "\u001b[0;31mWebserviceException\u001b[0m                       Traceback (most recent call last)",
            "\u001b[1;32m/home/azureuser/cloudfiles/code/mslearn-dp100/09 - Create a Real-time Inferencing Service.ipynb Cell 17\u001b[0m in \u001b[0;36m<cell line: 1>\u001b[0;34m()\u001b[0m\n\u001b[0;32m----> <a href='vscode-notebook-cell://amlext%2B2f737562736372697074696f6e732f33373636323161662d366130362d346466362d623930322d6432356336323339663031352f7265736f7572636547726f7570732f6c6561726e696e672f70726f7669646572732f4d6963726f736f66742e4d616368696e654c6561726e696e6753657276696365732f776f726b7370616365732f6d6c6c6561726e696e67776f726b73706163652f636f6d70757465732f6361726c6f62696e646131/home/azureuser/cloudfiles/code/mslearn-dp100/09%20-%20Create%20a%20Real-time%20Inferencing%20Service.ipynb#X22sdnNjb2RlLXJlbW90ZQ%3D%3D?line=0'>1</a>\u001b[0m \u001b[39mprint\u001b[39m(service\u001b[39m.\u001b[39;49mget_logs())\n",
            "File \u001b[0;32m/anaconda/envs/azureml_py38/lib/python3.8/site-packages/azureml/core/webservice/webservice.py:1237\u001b[0m, in \u001b[0;36mWebservice.get_logs\u001b[0;34m(self, num_lines, init)\u001b[0m\n\u001b[1;32m   1235\u001b[0m resp \u001b[39m=\u001b[39m ClientBase\u001b[39m.\u001b[39m_execute_func(get_requests_session()\u001b[39m.\u001b[39mget, service_logs_url, headers\u001b[39m=\u001b[39mheaders, params\u001b[39m=\u001b[39mparams)\n\u001b[1;32m   1236\u001b[0m \u001b[39mif\u001b[39;00m resp\u001b[39m.\u001b[39mstatus_code \u001b[39m>\u001b[39m\u001b[39m=\u001b[39m \u001b[39m400\u001b[39m:\n\u001b[0;32m-> 1237\u001b[0m     \u001b[39mraise\u001b[39;00m WebserviceException(\u001b[39m'\u001b[39m\u001b[39mReceived bad response from Model Management Service:\u001b[39m\u001b[39m\\n\u001b[39;00m\u001b[39m'\u001b[39m\n\u001b[1;32m   1238\u001b[0m                               \u001b[39m'\u001b[39m\u001b[39mResponse Code: \u001b[39m\u001b[39m{}\u001b[39;00m\u001b[39m\\n\u001b[39;00m\u001b[39m'\u001b[39m\n\u001b[1;32m   1239\u001b[0m                               \u001b[39m'\u001b[39m\u001b[39mHeaders: \u001b[39m\u001b[39m{}\u001b[39;00m\u001b[39m\\n\u001b[39;00m\u001b[39m'\u001b[39m\n\u001b[1;32m   1240\u001b[0m                               \u001b[39m'\u001b[39m\u001b[39mContent: \u001b[39m\u001b[39m{}\u001b[39;00m\u001b[39m'\u001b[39m\u001b[39m.\u001b[39mformat(resp\u001b[39m.\u001b[39mstatus_code, resp\u001b[39m.\u001b[39mheaders, resp\u001b[39m.\u001b[39mcontent),\n\u001b[1;32m   1241\u001b[0m                               logger\u001b[39m=\u001b[39mmodule_logger)\n\u001b[1;32m   1242\u001b[0m \u001b[39melse\u001b[39;00m:\n\u001b[1;32m   1243\u001b[0m     content \u001b[39m=\u001b[39m resp\u001b[39m.\u001b[39mcontent\n",
            "\u001b[0;31mWebserviceException\u001b[0m: WebserviceException:\n\tMessage: Received bad response from Model Management Service:\nResponse Code: 403\nHeaders: {'Date': 'Tue, 13 Dec 2022 15:45:38 GMT', 'Content-Type': 'application/json', 'Transfer-Encoding': 'chunked', 'Connection': 'keep-alive', 'Vary': 'Accept-Encoding', 'x-ms-client-request-id': 'b9c6a699-e33f-4868-952e-bd296abd9a1f', 'x-ms-client-session-id': 'a7eaa47e-e7f4-4ee5-944f-582da1996233', 'api-supported-versions': '1.0, 2018-03-01-preview, 2018-11-19', 'Strict-Transport-Security': 'max-age=15724800; includeSubDomains; preload', 'X-Content-Type-Options': 'nosniff', 'x-aml-cluster': 'vienna-westeurope-02', 'x-request-time': '0.292', 'Content-Encoding': 'gzip'}\nContent: b'{\"code\":\"Forbidden\",\"statusCode\":403,\"message\":\"Forbidden\",\"details\":[{\"code\":\"AuthorizationFailed\",\"message\":\"The client \\'530a969d-1f1a-4d2a-9866-6f18d23e261b\\' with object id \\'530a969d-1f1a-4d2a-9866-6f18d23e261b\\' does not have authorization to perform action \\'Microsoft.ContainerInstance/containerGroups/containers/logs/read\\' over scope \\'/subscriptions/376621af-6a06-4df6-b902-d25c6239f015/resourceGroups/learning/providers/Microsoft.ContainerInstance/containerGroups/diabetes-service-MHaHjIEyoU6Jz-j4BAxzcA/containers/diabetes-service\\' or the scope is invalid. If access was recently granted, please refresh your credentials.\"}],\"correlation\":{\"RequestId\":\"b9c6a699-e33f-4868-952e-bd296abd9a1f\"}}'\n\tInnerException None\n\tErrorResponse \n{\n    \"error\": {\n        \"message\": \"Received bad response from Model Management Service:\\nResponse Code: 403\\nHeaders: {'Date': 'Tue, 13 Dec 2022 15:45:38 GMT', 'Content-Type': 'application/json', 'Transfer-Encoding': 'chunked', 'Connection': 'keep-alive', 'Vary': 'Accept-Encoding', 'x-ms-client-request-id': 'b9c6a699-e33f-4868-952e-bd296abd9a1f', 'x-ms-client-session-id': 'a7eaa47e-e7f4-4ee5-944f-582da1996233', 'api-supported-versions': '1.0, 2018-03-01-preview, 2018-11-19', 'Strict-Transport-Security': 'max-age=15724800; includeSubDomains; preload', 'X-Content-Type-Options': 'nosniff', 'x-aml-cluster': 'vienna-westeurope-02', 'x-request-time': '0.292', 'Content-Encoding': 'gzip'}\\nContent: b'{\\\"code\\\":\\\"Forbidden\\\",\\\"statusCode\\\":403,\\\"message\\\":\\\"Forbidden\\\",\\\"details\\\":[{\\\"code\\\":\\\"AuthorizationFailed\\\",\\\"message\\\":\\\"The client \\\\'530a969d-1f1a-4d2a-9866-6f18d23e261b\\\\' with object id \\\\'530a969d-1f1a-4d2a-9866-6f18d23e261b\\\\' does not have authorization to perform action \\\\'Microsoft.ContainerInstance/containerGroups/containers/logs/read\\\\' over scope \\\\'/subscriptions/376621af-6a06-4df6-b902-d25c6239f015/resourceGroups/learning/providers/Microsoft.ContainerInstance/containerGroups/diabetes-service-MHaHjIEyoU6Jz-j4BAxzcA/containers/diabetes-service\\\\' or the scope is invalid. If access was recently granted, please refresh your credentials.\\\"}],\\\"correlation\\\":{\\\"RequestId\\\":\\\"b9c6a699-e33f-4868-952e-bd296abd9a1f\\\"}}'\"\n    }\n}"
          ]
        }
      ],
      "source": [
        "print(service.get_logs())\n",
        "\n",
        "# If you need to make a change and redeploy, you may need to delete unhealthy service using the following code:\n",
        "#service.delete()"
      ]
    },
    {
      "cell_type": "code",
      "execution_count": 11,
      "metadata": {},
      "outputs": [
        {
          "name": "stdout",
          "output_type": "stream",
          "text": [
            "Downloading model diabetes_model:9 to /tmp/azureml_7gf4x9jf/diabetes_model/9\n",
            "Generating Docker build context.\n",
            "Package creation Succeeded\n",
            "Logging into Docker registry viennaglobal.azurecr.io\n",
            "Logging into Docker registry viennaglobal.azurecr.io\n",
            "Building Docker image from Dockerfile...\n",
            "Step 1/5 : FROM viennaglobal.azurecr.io/azureml/azureml_671acc614a8269fb6808ccf99c897fc3\n",
            " ---> 64a6aac294d0\n",
            "Step 2/5 : COPY azureml-app /var/azureml-app\n",
            " ---> 4f8393d4691b\n",
            "Step 3/5 : RUN mkdir -p '/var/azureml-app' && echo eyJhY2NvdW50Q29udGV4dCI6eyJzdWJzY3JpcHRpb25JZCI6IjM3NjYyMWFmLTZhMDYtNGRmNi1iOTAyLWQyNWM2MjM5ZjAxNSIsInJlc291cmNlR3JvdXBOYW1lIjoibGVhcm5pbmciLCJhY2NvdW50TmFtZSI6Im1sbGVhcm5pbmd3b3Jrc3BhY2UiLCJ3b3Jrc3BhY2VJZCI6IjhjODc3NjMwLTMyODEtNGVhMS04OWNmLWY4ZjgwNDBjNzM3MCJ9LCJtb2RlbHMiOnt9LCJtb2RlbHNJbmZvIjp7fX0= | base64 --decode > /var/azureml-app/model_config_map.json\n",
            " ---> Running in 59f83a47bc62\n",
            " ---> 74541e83a2c6\n",
            "Step 4/5 : RUN mv '/var/azureml-app/tmpnccr6_kz.py' /var/azureml-app/main.py\n",
            " ---> Running in f3c595a532d9\n",
            " ---> 506baeb30677\n",
            "Step 5/5 : CMD [\"runsvdir\",\"/var/runit\"]\n",
            " ---> Running in 81e4a4aa10f1\n",
            " ---> 2bebda255e8f\n",
            "Successfully built 2bebda255e8f\n",
            "Successfully tagged test-svc:latest\n",
            "Starting Docker container...\n",
            "Docker container running.\n"
          ]
        }
      ],
      "source": [
        "from azureml.core.webservice import LocalWebservice\n",
        "\n",
        "deployment_config = LocalWebservice.deploy_configuration(port=8890)\n",
        "service = Model.deploy(ws, 'test-svc', [model], inference_config, deployment_config)"
      ]
    },
    {
      "cell_type": "markdown",
      "metadata": {},
      "source": [
        "Take a look at your workspace in [Azure Machine Learning Studio](https://ml.azure.com) and view the **Endpoints** page, which shows the deployed services in your workspace.\n",
        "\n",
        "You can also retrieve the names of web services in your workspace by running the following code:"
      ]
    },
    {
      "cell_type": "code",
      "execution_count": 12,
      "metadata": {},
      "outputs": [
        {
          "name": "stdout",
          "output_type": "stream",
          "text": [
            "diabetes-service\n"
          ]
        }
      ],
      "source": [
        "for webservice_name in ws.webservices:\n",
        "    print(webservice_name)"
      ]
    },
    {
      "cell_type": "markdown",
      "metadata": {},
      "source": [
        "## Use the web service\n",
        "\n",
        "With the service deployed, now you can consume it from a client application."
      ]
    },
    {
      "cell_type": "code",
      "execution_count": 13,
      "metadata": {},
      "outputs": [
        {
          "name": "stdout",
          "output_type": "stream",
          "text": [
            "Patient: [2, 180, 74, 24, 21, 23.9091702, 1.488172308, 22]\n",
            "Checking container health...\n",
            "Local webservice is running at http://localhost:8890\n",
            "diabetic\n"
          ]
        }
      ],
      "source": [
        "import json\n",
        "\n",
        "x_new = [[2,180,74,24,21,23.9091702,1.488172308,22]]\n",
        "print ('Patient: {}'.format(x_new[0]))\n",
        "\n",
        "# Convert the array to a serializable list in a JSON document\n",
        "input_json = json.dumps({\"data\": x_new})\n",
        "\n",
        "# Call the web service, passing the input data (the web service will also accept the data in binary format)\n",
        "predictions = service.run(input_data = input_json)\n",
        "\n",
        "# Get the predicted class - it'll be the first (and only) one.\n",
        "predicted_classes = json.loads(predictions)\n",
        "print(predicted_classes[0])"
      ]
    },
    {
      "cell_type": "markdown",
      "metadata": {},
      "source": [
        "You can also send multiple patient observations to the service, and get back a prediction for each one."
      ]
    },
    {
      "cell_type": "code",
      "execution_count": 14,
      "metadata": {},
      "outputs": [
        {
          "name": "stdout",
          "output_type": "stream",
          "text": [
            "Patient [2, 180, 74, 24, 21, 23.9091702, 1.488172308, 22] diabetic\n",
            "Patient [0, 148, 58, 11, 179, 39.19207553, 0.160829008, 45] not-diabetic\n"
          ]
        }
      ],
      "source": [
        "import json\n",
        "\n",
        "# This time our input is an array of two feature arrays\n",
        "x_new = [[2,180,74,24,21,23.9091702,1.488172308,22],\n",
        "         [0,148,58,11,179,39.19207553,0.160829008,45]]\n",
        "\n",
        "# Convert the array or arrays to a serializable list in a JSON document\n",
        "input_json = json.dumps({\"data\": x_new})\n",
        "\n",
        "# Call the web service, passing the input data\n",
        "predictions = service.run(input_data = input_json)\n",
        "\n",
        "# Get the predicted classes.\n",
        "predicted_classes = json.loads(predictions)\n",
        "   \n",
        "for i in range(len(x_new)):\n",
        "    print (\"Patient {}\".format(x_new[i]), predicted_classes[i] )"
      ]
    },
    {
      "cell_type": "markdown",
      "metadata": {},
      "source": [
        "The code above uses the Azure Machine Learning SDK to connect to the containerized web service and use it to generate predictions from your diabetes classification model. In production, a model is likely to be consumed by business applications that do not use the Azure Machine Learning SDK, but simply make HTTP requests to the web service.\n",
        "\n",
        "Let's determine the URL to which these applications must submit their requests:"
      ]
    },
    {
      "cell_type": "code",
      "execution_count": 15,
      "metadata": {},
      "outputs": [
        {
          "name": "stdout",
          "output_type": "stream",
          "text": [
            "http://localhost:8890/score\n"
          ]
        }
      ],
      "source": [
        "endpoint = service.scoring_uri\n",
        "print(endpoint)"
      ]
    },
    {
      "cell_type": "markdown",
      "metadata": {},
      "source": [
        "Now that you know the endpoint URI, an application can simply make an HTTP request, sending the patient data in JSON format, and receive back the predicted class(es)."
      ]
    },
    {
      "cell_type": "code",
      "execution_count": 16,
      "metadata": {
        "scrolled": true
      },
      "outputs": [
        {
          "name": "stdout",
          "output_type": "stream",
          "text": [
            "Patient [2, 180, 74, 24, 21, 23.9091702, 1.488172308, 22] diabetic\n",
            "Patient [0, 148, 58, 11, 179, 39.19207553, 0.160829008, 45] not-diabetic\n"
          ]
        }
      ],
      "source": [
        "import requests\n",
        "import json\n",
        "\n",
        "x_new = [[2,180,74,24,21,23.9091702,1.488172308,22],\n",
        "         [0,148,58,11,179,39.19207553,0.160829008,45]]\n",
        "\n",
        "# Convert the array to a serializable list in a JSON document\n",
        "input_json = json.dumps({\"data\": x_new})\n",
        "\n",
        "# Set the content type\n",
        "headers = { 'Content-Type':'application/json' }\n",
        "\n",
        "predictions = requests.post(endpoint, input_json, headers = headers)\n",
        "predicted_classes = json.loads(predictions.json())\n",
        "\n",
        "for i in range(len(x_new)):\n",
        "    print (\"Patient {}\".format(x_new[i]), predicted_classes[i] )"
      ]
    },
    {
      "cell_type": "markdown",
      "metadata": {},
      "source": [
        "You've deployed your web service as an Azure Container Instance (ACI) service that requires no authentication. This is fine for development and testing, but for production you should consider deploying to an Azure Kubernetes Service (AKS) cluster and enabling token-based authentication. This would require REST requests to include an **Authorization** header.\n",
        "\n",
        "## Delete the service\n",
        "\n",
        "When you no longer need your service, you should delete it to avoid incurring unecessary charges."
      ]
    },
    {
      "cell_type": "code",
      "execution_count": null,
      "metadata": {},
      "outputs": [],
      "source": [
        "service.delete()\n",
        "print ('Service deleted.')"
      ]
    },
    {
      "cell_type": "markdown",
      "metadata": {},
      "source": [
        "For more information about publishing a model as a service, see the [documentation](https://docs.microsoft.com/azure/machine-learning/how-to-deploy-and-where)"
      ]
    }
  ],
  "metadata": {
    "kernel_info": {
      "name": "python38-azureml"
    },
    "kernelspec": {
      "display_name": "azureml_py38",
      "language": "python",
      "name": "python3"
    },
    "language_info": {
      "codemirror_mode": {
        "name": "ipython",
        "version": 3
      },
      "file_extension": ".py",
      "mimetype": "text/x-python",
      "name": "python",
      "nbconvert_exporter": "python",
      "pygments_lexer": "ipython3",
      "version": "3.8.5"
    },
    "nteract": {
      "version": "nteract-front-end@1.0.0"
    },
    "vscode": {
      "interpreter": {
        "hash": "6d65a8c07f5b6469e0fc613f182488c0dccce05038bbda39e5ac9075c0454d11"
      }
    }
  },
  "nbformat": 4,
  "nbformat_minor": 0
}
